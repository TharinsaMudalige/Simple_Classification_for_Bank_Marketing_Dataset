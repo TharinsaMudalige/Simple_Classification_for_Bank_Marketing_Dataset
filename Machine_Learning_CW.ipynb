{
  "nbformat": 4,
  "nbformat_minor": 0,
  "metadata": {
    "colab": {
      "provenance": [],
      "authorship_tag": "ABX9TyOW03tgImfl4mey6lNN+Dfz",
      "include_colab_link": true
    },
    "kernelspec": {
      "name": "python3",
      "display_name": "Python 3"
    },
    "language_info": {
      "name": "python"
    }
  },
  "cells": [
    {
      "cell_type": "markdown",
      "metadata": {
        "id": "view-in-github",
        "colab_type": "text"
      },
      "source": [
        "<a href=\"https://colab.research.google.com/github/TharinsaMudalige/Simple_Classification_for_Bank_Marketing_Dataset/blob/main/Machine_Learning_CW.ipynb\" target=\"_parent\"><img src=\"https://colab.research.google.com/assets/colab-badge.svg\" alt=\"Open In Colab\"/></a>"
      ]
    },
    {
      "cell_type": "code",
      "execution_count": null,
      "metadata": {
        "colab": {
          "base_uri": "https://localhost:8080/"
        },
        "id": "i7SdmO1K3pJ8",
        "outputId": "433cb58e-737f-402d-dfcf-bb7b80f809ee"
      },
      "outputs": [
        {
          "output_type": "stream",
          "name": "stdout",
          "text": [
            "Mounted at /content/drive\n"
          ]
        }
      ],
      "source": [
        "from google.colab import drive\n",
        "drive.mount('/content/drive')"
      ]
    },
    {
      "cell_type": "code",
      "source": [
        "import pandas as pd"
      ],
      "metadata": {
        "id": "x2hy5oBiEsTh"
      },
      "execution_count": null,
      "outputs": []
    },
    {
      "cell_type": "code",
      "source": [
        "file_path = '/content/drive/MyDrive/ML Coursework/bank-additional-full.csv'\n",
        "\n",
        "# Loading the CSV file into a Pandas DataFrame\n",
        "data = pd.read_csv(file_path, delimiter=';')\n",
        "# Displaying the first few rows\n",
        "print(data.head())"
      ],
      "metadata": {
        "colab": {
          "base_uri": "https://localhost:8080/"
        },
        "id": "EQosKmo-Epsu",
        "outputId": "01e7028b-cf43-4715-c515-2a2426205305"
      },
      "execution_count": null,
      "outputs": [
        {
          "output_type": "stream",
          "name": "stdout",
          "text": [
            "   age        job  marital    education  default housing loan    contact  \\\n",
            "0   56  housemaid  married     basic.4y       no      no   no  telephone   \n",
            "1   57   services  married  high.school  unknown      no   no  telephone   \n",
            "2   37   services  married  high.school       no     yes   no  telephone   \n",
            "3   40     admin.  married     basic.6y       no      no   no  telephone   \n",
            "4   56   services  married  high.school       no      no  yes  telephone   \n",
            "\n",
            "  month day_of_week  ...  campaign  pdays  previous     poutcome emp.var.rate  \\\n",
            "0   may         mon  ...         1    999         0  nonexistent          1.1   \n",
            "1   may         mon  ...         1    999         0  nonexistent          1.1   \n",
            "2   may         mon  ...         1    999         0  nonexistent          1.1   \n",
            "3   may         mon  ...         1    999         0  nonexistent          1.1   \n",
            "4   may         mon  ...         1    999         0  nonexistent          1.1   \n",
            "\n",
            "   cons.price.idx  cons.conf.idx  euribor3m  nr.employed   y  \n",
            "0          93.994          -36.4      4.857       5191.0  no  \n",
            "1          93.994          -36.4      4.857       5191.0  no  \n",
            "2          93.994          -36.4      4.857       5191.0  no  \n",
            "3          93.994          -36.4      4.857       5191.0  no  \n",
            "4          93.994          -36.4      4.857       5191.0  no  \n",
            "\n",
            "[5 rows x 21 columns]\n"
          ]
        }
      ]
    },
    {
      "cell_type": "code",
      "source": [
        "print(\"Initial dataset shape:\", data.shape)"
      ],
      "metadata": {
        "id": "I1-kdrn2Ff4v",
        "colab": {
          "base_uri": "https://localhost:8080/"
        },
        "outputId": "0fd4531d-272c-49a9-f743-eaca8047b055"
      },
      "execution_count": null,
      "outputs": [
        {
          "output_type": "stream",
          "name": "stdout",
          "text": [
            "Initial dataset shape: (41188, 21)\n"
          ]
        }
      ]
    },
    {
      "cell_type": "markdown",
      "source": [
        "Data Preprocessing"
      ],
      "metadata": {
        "id": "K6edOIT7Ta3p"
      }
    },
    {
      "cell_type": "markdown",
      "source": [
        "1.   Handling \"unknown values\""
      ],
      "metadata": {
        "id": "6tZqeScoJ9cJ"
      }
    },
    {
      "cell_type": "code",
      "source": [
        "# Columns containing unknown values\n",
        "columns = ['job', 'marital', 'education', 'default', 'housing', 'loan']\n",
        "\n",
        "# Handling \"unknown\" values\n",
        "for column in columns:\n",
        "    unknown_count = data[column].value_counts().get('unknown', 0)\n",
        "    print(f'\"unknown\" count in {column} column: {unknown_count}')\n",
        "\n",
        "    if column in ['default', 'education']:  # Taking \"unknown\" as a separate category for these 2 columns\n",
        "        data[column] = data[column].replace('unknown', 'unknown')\n",
        "    else:  # Replacing \"unknown\" with the mode for other columns\n",
        "        data[column] = data[column].replace('unknown', data[column].mode()[0])"
      ],
      "metadata": {
        "colab": {
          "base_uri": "https://localhost:8080/"
        },
        "id": "wR3O7sSSOBHB",
        "outputId": "36e5e899-2ab5-4575-bac3-276c1739d777"
      },
      "execution_count": null,
      "outputs": [
        {
          "output_type": "stream",
          "name": "stdout",
          "text": [
            "\"unknown\" count in job column: 330\n",
            "\"unknown\" count in marital column: 80\n",
            "\"unknown\" count in education column: 1731\n",
            "\"unknown\" count in default column: 8597\n",
            "\"unknown\" count in housing column: 990\n",
            "\"unknown\" count in loan column: 990\n"
          ]
        }
      ]
    },
    {
      "cell_type": "markdown",
      "source": [
        "2. Handling the value of pdays"
      ],
      "metadata": {
        "id": "WUFggsoASHF1"
      }
    },
    {
      "cell_type": "code",
      "source": [
        "# Replacing 999 with -1 as \"not contacted\"\n",
        "data['pdays'] = data['pdays'].replace(999, -1)"
      ],
      "metadata": {
        "id": "G8c7e3pTSLI6"
      },
      "execution_count": null,
      "outputs": []
    },
    {
      "cell_type": "markdown",
      "source": [
        "3. Handling duplicate rows"
      ],
      "metadata": {
        "id": "WSkAOLluSLqg"
      }
    },
    {
      "cell_type": "code",
      "source": [
        "# Removing duplicate rows\n",
        "data = data.drop_duplicates()"
      ],
      "metadata": {
        "id": "v72hE_EVSNvl"
      },
      "execution_count": null,
      "outputs": []
    },
    {
      "cell_type": "code",
      "source": [
        "print(\"Dataset shape after remvoving duplicates:\", data.shape)"
      ],
      "metadata": {
        "colab": {
          "base_uri": "https://localhost:8080/"
        },
        "id": "krSiG_tPSXzi",
        "outputId": "d6b9f4d1-a11e-4584-9856-06bff81ac8e0"
      },
      "execution_count": null,
      "outputs": [
        {
          "output_type": "stream",
          "name": "stdout",
          "text": [
            "Dataset shape after remvoving duplicates: (41176, 21)\n"
          ]
        }
      ]
    },
    {
      "cell_type": "markdown",
      "source": [
        "4. Encoding categorical variables"
      ],
      "metadata": {
        "id": "-UQlZOHBWoG4"
      }
    },
    {
      "cell_type": "code",
      "source": [
        "print(\"Dataset before encoding:\")\n",
        "print(data.info())"
      ],
      "metadata": {
        "colab": {
          "base_uri": "https://localhost:8080/"
        },
        "id": "TpeUJe_GXLRN",
        "outputId": "86148591-7124-4a71-e59e-bfefe9e1fb14"
      },
      "execution_count": null,
      "outputs": [
        {
          "output_type": "stream",
          "name": "stdout",
          "text": [
            "Dataset before encoding:\n",
            "<class 'pandas.core.frame.DataFrame'>\n",
            "Index: 41176 entries, 0 to 41187\n",
            "Data columns (total 21 columns):\n",
            " #   Column          Non-Null Count  Dtype  \n",
            "---  ------          --------------  -----  \n",
            " 0   age             41176 non-null  int64  \n",
            " 1   job             41176 non-null  object \n",
            " 2   marital         41176 non-null  object \n",
            " 3   education       41176 non-null  object \n",
            " 4   default         41176 non-null  object \n",
            " 5   housing         41176 non-null  object \n",
            " 6   loan            41176 non-null  object \n",
            " 7   contact         41176 non-null  object \n",
            " 8   month           41176 non-null  object \n",
            " 9   day_of_week     41176 non-null  object \n",
            " 10  duration        41176 non-null  int64  \n",
            " 11  campaign        41176 non-null  int64  \n",
            " 12  pdays           41176 non-null  int64  \n",
            " 13  previous        41176 non-null  int64  \n",
            " 14  poutcome        41176 non-null  object \n",
            " 15  emp.var.rate    41176 non-null  float64\n",
            " 16  cons.price.idx  41176 non-null  float64\n",
            " 17  cons.conf.idx   41176 non-null  float64\n",
            " 18  euribor3m       41176 non-null  float64\n",
            " 19  nr.employed     41176 non-null  float64\n",
            " 20  y               41176 non-null  object \n",
            "dtypes: float64(5), int64(5), object(11)\n",
            "memory usage: 6.9+ MB\n",
            "None\n"
          ]
        }
      ]
    },
    {
      "cell_type": "code",
      "source": [
        "columns = ['job', 'marital', 'education', 'default', 'housing', 'loan',\n",
        "                       'contact', 'month', 'day_of_week', 'poutcome']\n",
        "\n",
        "# One-hot encoding for all the categorical variables/features\n",
        "data_encoded = pd.get_dummies(data, columns=columns, drop_first=True)\n",
        "\n",
        "print(\"\\nDataset after encoding:\")\n",
        "print(data_encoded.info())"
      ],
      "metadata": {
        "colab": {
          "base_uri": "https://localhost:8080/"
        },
        "id": "cbsHfpIEWzgc",
        "outputId": "7b394a89-dcfa-42a1-fc56-dd6c0154c59d"
      },
      "execution_count": null,
      "outputs": [
        {
          "output_type": "stream",
          "name": "stdout",
          "text": [
            "\n",
            "Dataset after encoding:\n",
            "<class 'pandas.core.frame.DataFrame'>\n",
            "Index: 41176 entries, 0 to 41187\n",
            "Data columns (total 50 columns):\n",
            " #   Column                         Non-Null Count  Dtype  \n",
            "---  ------                         --------------  -----  \n",
            " 0   age                            41176 non-null  int64  \n",
            " 1   duration                       41176 non-null  int64  \n",
            " 2   campaign                       41176 non-null  int64  \n",
            " 3   pdays                          41176 non-null  int64  \n",
            " 4   previous                       41176 non-null  int64  \n",
            " 5   emp.var.rate                   41176 non-null  float64\n",
            " 6   cons.price.idx                 41176 non-null  float64\n",
            " 7   cons.conf.idx                  41176 non-null  float64\n",
            " 8   euribor3m                      41176 non-null  float64\n",
            " 9   nr.employed                    41176 non-null  float64\n",
            " 10  y                              41176 non-null  object \n",
            " 11  job_blue-collar                41176 non-null  bool   \n",
            " 12  job_entrepreneur               41176 non-null  bool   \n",
            " 13  job_housemaid                  41176 non-null  bool   \n",
            " 14  job_management                 41176 non-null  bool   \n",
            " 15  job_retired                    41176 non-null  bool   \n",
            " 16  job_self-employed              41176 non-null  bool   \n",
            " 17  job_services                   41176 non-null  bool   \n",
            " 18  job_student                    41176 non-null  bool   \n",
            " 19  job_technician                 41176 non-null  bool   \n",
            " 20  job_unemployed                 41176 non-null  bool   \n",
            " 21  marital_married                41176 non-null  bool   \n",
            " 22  marital_single                 41176 non-null  bool   \n",
            " 23  education_basic.6y             41176 non-null  bool   \n",
            " 24  education_basic.9y             41176 non-null  bool   \n",
            " 25  education_high.school          41176 non-null  bool   \n",
            " 26  education_illiterate           41176 non-null  bool   \n",
            " 27  education_professional.course  41176 non-null  bool   \n",
            " 28  education_university.degree    41176 non-null  bool   \n",
            " 29  education_unknown              41176 non-null  bool   \n",
            " 30  default_unknown                41176 non-null  bool   \n",
            " 31  default_yes                    41176 non-null  bool   \n",
            " 32  housing_yes                    41176 non-null  bool   \n",
            " 33  loan_yes                       41176 non-null  bool   \n",
            " 34  contact_telephone              41176 non-null  bool   \n",
            " 35  month_aug                      41176 non-null  bool   \n",
            " 36  month_dec                      41176 non-null  bool   \n",
            " 37  month_jul                      41176 non-null  bool   \n",
            " 38  month_jun                      41176 non-null  bool   \n",
            " 39  month_mar                      41176 non-null  bool   \n",
            " 40  month_may                      41176 non-null  bool   \n",
            " 41  month_nov                      41176 non-null  bool   \n",
            " 42  month_oct                      41176 non-null  bool   \n",
            " 43  month_sep                      41176 non-null  bool   \n",
            " 44  day_of_week_mon                41176 non-null  bool   \n",
            " 45  day_of_week_thu                41176 non-null  bool   \n",
            " 46  day_of_week_tue                41176 non-null  bool   \n",
            " 47  day_of_week_wed                41176 non-null  bool   \n",
            " 48  poutcome_nonexistent           41176 non-null  bool   \n",
            " 49  poutcome_success               41176 non-null  bool   \n",
            "dtypes: bool(39), float64(5), int64(5), object(1)\n",
            "memory usage: 5.3+ MB\n",
            "None\n"
          ]
        }
      ]
    },
    {
      "cell_type": "markdown",
      "source": [
        "5. Standardization (Z-Score Normalization)"
      ],
      "metadata": {
        "id": "MmnNqOTSGw5Q"
      }
    },
    {
      "cell_type": "code",
      "source": [
        "from sklearn.preprocessing import StandardScaler"
      ],
      "metadata": {
        "id": "Y0SwCIZEG30l"
      },
      "execution_count": null,
      "outputs": []
    },
    {
      "cell_type": "code",
      "source": [
        "numerical_columns = ['age', 'campaign', 'pdays', 'previous',\n",
        "                     'emp.var.rate', 'cons.price.idx',\n",
        "                     'cons.conf.idx', 'euribor3m', 'nr.employed']\n",
        "\n",
        "# To standardize features to have a mean of 0 and standard deviation of 1\n",
        "scaler = StandardScaler()\n",
        "\n",
        "# Creating a copy of the dataset\n",
        "X_standardized = data_encoded.copy()\n",
        "X_standardized[numerical_columns] = scaler.fit_transform(data_encoded[numerical_columns])"
      ],
      "metadata": {
        "id": "SQ_Z_CFvgvei"
      },
      "execution_count": null,
      "outputs": []
    },
    {
      "cell_type": "markdown",
      "source": [
        "6. Mapping yes and no as 0 and 1"
      ],
      "metadata": {
        "id": "IRzxpyUB4cmm"
      }
    },
    {
      "cell_type": "code",
      "source": [
        "# Mapping the target variable 'y' to 1 and 0\n",
        "X_standardized['y'] = X_standardized['y'].map({'yes': 1, 'no': 0})\n",
        "\n",
        "print(\"After mapping:\", X_standardized['y'].unique())"
      ],
      "metadata": {
        "id": "l_JpBlBV4hai",
        "colab": {
          "base_uri": "https://localhost:8080/"
        },
        "outputId": "a36a9212-f15a-42e9-ce98-e247aa803ab3"
      },
      "execution_count": null,
      "outputs": [
        {
          "output_type": "stream",
          "name": "stdout",
          "text": [
            "After mapping: [0 1]\n"
          ]
        }
      ]
    },
    {
      "cell_type": "markdown",
      "source": [
        "7. Removing the \"duration\" feature"
      ],
      "metadata": {
        "id": "uGf-YnaB7Hb7"
      }
    },
    {
      "cell_type": "code",
      "source": [
        "# Removing the 'duration' feature\n",
        "X_standardized = X_standardized.drop(columns=['duration'])\n",
        "\n",
        "print(\"Dataset shape after removing 'duration':\", X_standardized.shape)"
      ],
      "metadata": {
        "id": "xqZMXt_G7Msp",
        "colab": {
          "base_uri": "https://localhost:8080/"
        },
        "outputId": "7dec8caf-94c1-4e8f-a6b9-9e04678e8035"
      },
      "execution_count": null,
      "outputs": [
        {
          "output_type": "stream",
          "name": "stdout",
          "text": [
            "Dataset shape after removing 'duration': (41176, 49)\n"
          ]
        }
      ]
    },
    {
      "cell_type": "markdown",
      "source": [
        "8. Handling class imbalance"
      ],
      "metadata": {
        "id": "O-P1NRpkDdao"
      }
    },
    {
      "cell_type": "code",
      "source": [
        "# Checking whether imbalance exists\n",
        "\n",
        "# Checking how the classes are distributed\n",
        "class_distribution = X_standardized['y'].value_counts()\n",
        "print(\"Class Distribution:\")\n",
        "print(class_distribution)\n",
        "\n",
        "# Calculating the percentage of imbalance\n",
        "percentage_of_no = (class_distribution[0] / len(X_standardized)) * 100\n",
        "percentage_of_yes = (class_distribution[1] / len(X_standardized)) * 100\n",
        "print(f\"\\nPercentage of 'no': {percentage_of_no:.2f}%\")\n",
        "print(f\"Percentage of 'yes': {percentage_of_yes:.2f}%\")"
      ],
      "metadata": {
        "colab": {
          "base_uri": "https://localhost:8080/"
        },
        "id": "C-Q62ziZDmED",
        "outputId": "540914b7-2af2-4ae4-806b-654a675ed10f"
      },
      "execution_count": null,
      "outputs": [
        {
          "output_type": "stream",
          "name": "stdout",
          "text": [
            "Class Distribution:\n",
            "y\n",
            "0    36537\n",
            "1     4639\n",
            "Name: count, dtype: int64\n",
            "\n",
            "Percentage of 'no': 88.73%\n",
            "Percentage of 'yes': 11.27%\n"
          ]
        }
      ]
    },
    {
      "cell_type": "code",
      "source": [
        "from imblearn.over_sampling import SMOTE\n",
        "from collections import Counter"
      ],
      "metadata": {
        "id": "wiMWK7SrjJhc"
      },
      "execution_count": null,
      "outputs": []
    },
    {
      "cell_type": "code",
      "source": [
        "# Separating features and target variable\n",
        "X = X_standardized.drop('y', axis=1)\n",
        "y = X_standardized['y']\n",
        "\n",
        "# Applying SMOTE to balance the dataset\n",
        "smote = SMOTE(random_state=42)\n",
        "X_smote, y_smote = smote.fit_resample(X, y)\n",
        "\n",
        "print(\"\\nClass distribution after SMOTE:\")\n",
        "print(Counter(y_smote))"
      ],
      "metadata": {
        "colab": {
          "base_uri": "https://localhost:8080/"
        },
        "id": "VUmQV6acw2vL",
        "outputId": "788970da-b43b-4bd1-adfe-f7641bb806f4"
      },
      "execution_count": null,
      "outputs": [
        {
          "output_type": "stream",
          "name": "stderr",
          "text": [
            "/usr/local/lib/python3.10/dist-packages/sklearn/base.py:474: FutureWarning: `BaseEstimator._validate_data` is deprecated in 1.6 and will be removed in 1.7. Use `sklearn.utils.validation.validate_data` instead. This function becomes public and is part of the scikit-learn developer API.\n",
            "  warnings.warn(\n",
            "/usr/local/lib/python3.10/dist-packages/sklearn/utils/_tags.py:354: FutureWarning: The SMOTE or classes from which it inherits use `_get_tags` and `_more_tags`. Please define the `__sklearn_tags__` method, or inherit from `sklearn.base.BaseEstimator` and/or other appropriate mixins such as `sklearn.base.TransformerMixin`, `sklearn.base.ClassifierMixin`, `sklearn.base.RegressorMixin`, and `sklearn.base.OutlierMixin`. From scikit-learn 1.7, not defining `__sklearn_tags__` will raise an error.\n",
            "  warnings.warn(\n"
          ]
        },
        {
          "output_type": "stream",
          "name": "stdout",
          "text": [
            "\n",
            "Class distribution after SMOTE:\n",
            "Counter({0: 36537, 1: 36537})\n"
          ]
        }
      ]
    },
    {
      "cell_type": "code",
      "source": [
        "# Combining the features (X_smote) and target variable (y_smote) into a single dataset\n",
        "smote_balanced_data = X_smote.copy()\n",
        "smote_balanced_data['y'] = y_smote\n",
        "\n",
        "# Saving the pre processed dataset\n",
        "file_path = '/content/drive/My Drive/ML Coursework/bank_additional_full_preprocessed.csv'\n",
        "smote_balanced_data.to_csv(file_path, index=False)"
      ],
      "metadata": {
        "id": "FRFBYneKjXaU"
      },
      "execution_count": null,
      "outputs": []
    },
    {
      "cell_type": "markdown",
      "source": [
        "9. Splitting the dataset"
      ],
      "metadata": {
        "id": "rngvCOJxUGh7"
      }
    },
    {
      "cell_type": "code",
      "source": [
        "from sklearn.model_selection import train_test_split"
      ],
      "metadata": {
        "id": "Xb9pGeWrUIVn"
      },
      "execution_count": null,
      "outputs": []
    },
    {
      "cell_type": "code",
      "source": [
        "# Loading the saved dataset\n",
        "file_path = '/content/drive/My Drive/ML Coursework/bank_additional_full_preprocessed.csv'\n",
        "data_smote = pd.read_csv(file_path)\n",
        "\n",
        "X = data_smote.drop('y', axis=1)\n",
        "y = data_smote['y']\n",
        "\n",
        "# Splitting\n",
        "X_train, X_test, y_train, y_test = train_test_split(\n",
        "    X, y,\n",
        "    test_size=0.2,\n",
        "    stratify=y,\n",
        "    random_state=42\n",
        ")\n",
        "\n",
        "# Checking the count of each class in the both sets\n",
        "print(\"\\nTraining set:\")\n",
        "print(Counter(y_train))\n",
        "\n",
        "print(\"\\nTesting set:\")\n",
        "print(Counter(y_test))"
      ],
      "metadata": {
        "colab": {
          "base_uri": "https://localhost:8080/"
        },
        "id": "0Y3ef4AVUOsj",
        "outputId": "62c05ee0-d89f-486a-b5e5-768344000c7c"
      },
      "execution_count": null,
      "outputs": [
        {
          "output_type": "stream",
          "name": "stdout",
          "text": [
            "\n",
            "Training set:\n",
            "Counter({1: 29230, 0: 29229})\n",
            "\n",
            "Testing set:\n",
            "Counter({0: 7308, 1: 7307})\n"
          ]
        }
      ]
    },
    {
      "cell_type": "markdown",
      "source": [
        "Building the neural network"
      ],
      "metadata": {
        "id": "y1KoSkxL5i7L"
      }
    },
    {
      "cell_type": "code",
      "source": [
        "from tensorflow.keras.models import Sequential\n",
        "from tensorflow.keras.layers import Dense, Dropout, Input"
      ],
      "metadata": {
        "id": "Owc7Ls4N5TEd"
      },
      "execution_count": null,
      "outputs": []
    },
    {
      "cell_type": "code",
      "source": [
        "# Building the neural network\n",
        "model = Sequential([\n",
        "    Input(shape=(X_train.shape[1],)),\n",
        "    Dense(512, activation='relu'),\n",
        "    Dropout(0.3),\n",
        "    Dense(256, activation='relu'),\n",
        "    Dropout(0.3),\n",
        "    Dense(128, activation='relu'),\n",
        "    Dropout(0.3),\n",
        "    Dense(64, activation='relu'),\n",
        "    Dense(1, activation='sigmoid')\n",
        "])"
      ],
      "metadata": {
        "id": "5xEXJyZtv2Kr"
      },
      "execution_count": null,
      "outputs": []
    },
    {
      "cell_type": "code",
      "source": [
        "# Compiling the model\n",
        "model.compile(optimizer='adam',\n",
        "              loss='binary_crossentropy',\n",
        "              metrics=['accuracy'])"
      ],
      "metadata": {
        "id": "AzleiyCAv4HM"
      },
      "execution_count": null,
      "outputs": []
    },
    {
      "cell_type": "code",
      "source": [
        "# Training the model\n",
        "history = model.fit(\n",
        "    X_train, y_train,\n",
        "    validation_split=0.2,\n",
        "    epochs=100,\n",
        "    batch_size=32,\n",
        "    verbose=1\n",
        ")"
      ],
      "metadata": {
        "colab": {
          "base_uri": "https://localhost:8080/"
        },
        "id": "hlP4bM1Fv5y7",
        "outputId": "38c00911-0864-4557-b942-90a199da224d"
      },
      "execution_count": null,
      "outputs": [
        {
          "output_type": "stream",
          "name": "stdout",
          "text": [
            "Epoch 1/100\n",
            "\u001b[1m1462/1462\u001b[0m \u001b[32m━━━━━━━━━━━━━━━━━━━━\u001b[0m\u001b[37m\u001b[0m \u001b[1m11s\u001b[0m 6ms/step - accuracy: 0.7432 - loss: 0.5236 - val_accuracy: 0.8029 - val_loss: 0.4256\n",
            "Epoch 2/100\n",
            "\u001b[1m1462/1462\u001b[0m \u001b[32m━━━━━━━━━━━━━━━━━━━━\u001b[0m\u001b[37m\u001b[0m \u001b[1m12s\u001b[0m 7ms/step - accuracy: 0.7958 - loss: 0.4375 - val_accuracy: 0.8141 - val_loss: 0.4123\n",
            "Epoch 3/100\n",
            "\u001b[1m1462/1462\u001b[0m \u001b[32m━━━━━━━━━━━━━━━━━━━━\u001b[0m\u001b[37m\u001b[0m \u001b[1m12s\u001b[0m 8ms/step - accuracy: 0.8109 - loss: 0.4087 - val_accuracy: 0.8223 - val_loss: 0.3854\n",
            "Epoch 4/100\n",
            "\u001b[1m1462/1462\u001b[0m \u001b[32m━━━━━━━━━━━━━━━━━━━━\u001b[0m\u001b[37m\u001b[0m \u001b[1m11s\u001b[0m 8ms/step - accuracy: 0.8182 - loss: 0.3885 - val_accuracy: 0.8292 - val_loss: 0.3740\n",
            "Epoch 5/100\n",
            "\u001b[1m1462/1462\u001b[0m \u001b[32m━━━━━━━━━━━━━━━━━━━━\u001b[0m\u001b[37m\u001b[0m \u001b[1m9s\u001b[0m 6ms/step - accuracy: 0.8250 - loss: 0.3780 - val_accuracy: 0.8378 - val_loss: 0.3564\n",
            "Epoch 6/100\n",
            "\u001b[1m1462/1462\u001b[0m \u001b[32m━━━━━━━━━━━━━━━━━━━━\u001b[0m\u001b[37m\u001b[0m \u001b[1m12s\u001b[0m 7ms/step - accuracy: 0.8336 - loss: 0.3607 - val_accuracy: 0.8431 - val_loss: 0.3515\n",
            "Epoch 7/100\n",
            "\u001b[1m1462/1462\u001b[0m \u001b[32m━━━━━━━━━━━━━━━━━━━━\u001b[0m\u001b[37m\u001b[0m \u001b[1m12s\u001b[0m 8ms/step - accuracy: 0.8398 - loss: 0.3478 - val_accuracy: 0.8428 - val_loss: 0.3456\n",
            "Epoch 8/100\n",
            "\u001b[1m1462/1462\u001b[0m \u001b[32m━━━━━━━━━━━━━━━━━━━━\u001b[0m\u001b[37m\u001b[0m \u001b[1m10s\u001b[0m 7ms/step - accuracy: 0.8456 - loss: 0.3407 - val_accuracy: 0.8482 - val_loss: 0.3378\n",
            "Epoch 9/100\n",
            "\u001b[1m1462/1462\u001b[0m \u001b[32m━━━━━━━━━━━━━━━━━━━━\u001b[0m\u001b[37m\u001b[0m \u001b[1m10s\u001b[0m 7ms/step - accuracy: 0.8492 - loss: 0.3291 - val_accuracy: 0.8538 - val_loss: 0.3336\n",
            "Epoch 10/100\n",
            "\u001b[1m1462/1462\u001b[0m \u001b[32m━━━━━━━━━━━━━━━━━━━━\u001b[0m\u001b[37m\u001b[0m \u001b[1m12s\u001b[0m 8ms/step - accuracy: 0.8552 - loss: 0.3211 - val_accuracy: 0.8510 - val_loss: 0.3306\n",
            "Epoch 11/100\n",
            "\u001b[1m1462/1462\u001b[0m \u001b[32m━━━━━━━━━━━━━━━━━━━━\u001b[0m\u001b[37m\u001b[0m \u001b[1m18s\u001b[0m 6ms/step - accuracy: 0.8577 - loss: 0.3145 - val_accuracy: 0.8598 - val_loss: 0.3189\n",
            "Epoch 12/100\n",
            "\u001b[1m1462/1462\u001b[0m \u001b[32m━━━━━━━━━━━━━━━━━━━━\u001b[0m\u001b[37m\u001b[0m \u001b[1m12s\u001b[0m 8ms/step - accuracy: 0.8618 - loss: 0.3077 - val_accuracy: 0.8635 - val_loss: 0.3152\n",
            "Epoch 13/100\n",
            "\u001b[1m1462/1462\u001b[0m \u001b[32m━━━━━━━━━━━━━━━━━━━━\u001b[0m\u001b[37m\u001b[0m \u001b[1m19s\u001b[0m 7ms/step - accuracy: 0.8649 - loss: 0.2995 - val_accuracy: 0.8656 - val_loss: 0.3125\n",
            "Epoch 14/100\n",
            "\u001b[1m1462/1462\u001b[0m \u001b[32m━━━━━━━━━━━━━━━━━━━━\u001b[0m\u001b[37m\u001b[0m \u001b[1m21s\u001b[0m 8ms/step - accuracy: 0.8686 - loss: 0.2950 - val_accuracy: 0.8638 - val_loss: 0.3143\n",
            "Epoch 15/100\n",
            "\u001b[1m1462/1462\u001b[0m \u001b[32m━━━━━━━━━━━━━━━━━━━━\u001b[0m\u001b[37m\u001b[0m \u001b[1m12s\u001b[0m 8ms/step - accuracy: 0.8726 - loss: 0.2870 - val_accuracy: 0.8712 - val_loss: 0.3025\n",
            "Epoch 16/100\n",
            "\u001b[1m1462/1462\u001b[0m \u001b[32m━━━━━━━━━━━━━━━━━━━━\u001b[0m\u001b[37m\u001b[0m \u001b[1m20s\u001b[0m 8ms/step - accuracy: 0.8759 - loss: 0.2808 - val_accuracy: 0.8731 - val_loss: 0.3002\n",
            "Epoch 17/100\n",
            "\u001b[1m1462/1462\u001b[0m \u001b[32m━━━━━━━━━━━━━━━━━━━━\u001b[0m\u001b[37m\u001b[0m \u001b[1m19s\u001b[0m 7ms/step - accuracy: 0.8771 - loss: 0.2770 - val_accuracy: 0.8713 - val_loss: 0.3035\n",
            "Epoch 18/100\n",
            "\u001b[1m1462/1462\u001b[0m \u001b[32m━━━━━━━━━━━━━━━━━━━━\u001b[0m\u001b[37m\u001b[0m \u001b[1m10s\u001b[0m 7ms/step - accuracy: 0.8800 - loss: 0.2747 - val_accuracy: 0.8711 - val_loss: 0.3037\n",
            "Epoch 19/100\n",
            "\u001b[1m1462/1462\u001b[0m \u001b[32m━━━━━━━━━━━━━━━━━━━━\u001b[0m\u001b[37m\u001b[0m \u001b[1m11s\u001b[0m 8ms/step - accuracy: 0.8808 - loss: 0.2687 - val_accuracy: 0.8748 - val_loss: 0.2981\n",
            "Epoch 20/100\n",
            "\u001b[1m1462/1462\u001b[0m \u001b[32m━━━━━━━━━━━━━━━━━━━━\u001b[0m\u001b[37m\u001b[0m \u001b[1m10s\u001b[0m 7ms/step - accuracy: 0.8821 - loss: 0.2647 - val_accuracy: 0.8763 - val_loss: 0.2953\n",
            "Epoch 21/100\n",
            "\u001b[1m1462/1462\u001b[0m \u001b[32m━━━━━━━━━━━━━━━━━━━━\u001b[0m\u001b[37m\u001b[0m \u001b[1m22s\u001b[0m 8ms/step - accuracy: 0.8841 - loss: 0.2620 - val_accuracy: 0.8733 - val_loss: 0.2993\n",
            "Epoch 22/100\n",
            "\u001b[1m1462/1462\u001b[0m \u001b[32m━━━━━━━━━━━━━━━━━━━━\u001b[0m\u001b[37m\u001b[0m \u001b[1m18s\u001b[0m 6ms/step - accuracy: 0.8885 - loss: 0.2584 - val_accuracy: 0.8786 - val_loss: 0.2921\n",
            "Epoch 23/100\n",
            "\u001b[1m1462/1462\u001b[0m \u001b[32m━━━━━━━━━━━━━━━━━━━━\u001b[0m\u001b[37m\u001b[0m \u001b[1m12s\u001b[0m 8ms/step - accuracy: 0.8889 - loss: 0.2520 - val_accuracy: 0.8816 - val_loss: 0.2850\n",
            "Epoch 24/100\n",
            "\u001b[1m1462/1462\u001b[0m \u001b[32m━━━━━━━━━━━━━━━━━━━━\u001b[0m\u001b[37m\u001b[0m \u001b[1m18s\u001b[0m 7ms/step - accuracy: 0.8932 - loss: 0.2464 - val_accuracy: 0.8790 - val_loss: 0.2901\n",
            "Epoch 25/100\n",
            "\u001b[1m1462/1462\u001b[0m \u001b[32m━━━━━━━━━━━━━━━━━━━━\u001b[0m\u001b[37m\u001b[0m \u001b[1m11s\u001b[0m 7ms/step - accuracy: 0.8939 - loss: 0.2455 - val_accuracy: 0.8833 - val_loss: 0.2840\n",
            "Epoch 26/100\n",
            "\u001b[1m1462/1462\u001b[0m \u001b[32m━━━━━━━━━━━━━━━━━━━━\u001b[0m\u001b[37m\u001b[0m \u001b[1m12s\u001b[0m 8ms/step - accuracy: 0.8930 - loss: 0.2456 - val_accuracy: 0.8833 - val_loss: 0.2841\n",
            "Epoch 27/100\n",
            "\u001b[1m1462/1462\u001b[0m \u001b[32m━━━━━━━━━━━━━━━━━━━━\u001b[0m\u001b[37m\u001b[0m \u001b[1m18s\u001b[0m 7ms/step - accuracy: 0.8956 - loss: 0.2391 - val_accuracy: 0.8810 - val_loss: 0.2836\n",
            "Epoch 28/100\n",
            "\u001b[1m1462/1462\u001b[0m \u001b[32m━━━━━━━━━━━━━━━━━━━━\u001b[0m\u001b[37m\u001b[0m \u001b[1m12s\u001b[0m 8ms/step - accuracy: 0.8966 - loss: 0.2403 - val_accuracy: 0.8815 - val_loss: 0.2879\n",
            "Epoch 29/100\n",
            "\u001b[1m1462/1462\u001b[0m \u001b[32m━━━━━━━━━━━━━━━━━━━━\u001b[0m\u001b[37m\u001b[0m \u001b[1m11s\u001b[0m 7ms/step - accuracy: 0.8966 - loss: 0.2390 - val_accuracy: 0.8824 - val_loss: 0.2822\n",
            "Epoch 30/100\n",
            "\u001b[1m1462/1462\u001b[0m \u001b[32m━━━━━━━━━━━━━━━━━━━━\u001b[0m\u001b[37m\u001b[0m \u001b[1m21s\u001b[0m 8ms/step - accuracy: 0.8999 - loss: 0.2326 - val_accuracy: 0.8873 - val_loss: 0.2837\n",
            "Epoch 31/100\n",
            "\u001b[1m1462/1462\u001b[0m \u001b[32m━━━━━━━━━━━━━━━━━━━━\u001b[0m\u001b[37m\u001b[0m \u001b[1m19s\u001b[0m 7ms/step - accuracy: 0.9015 - loss: 0.2306 - val_accuracy: 0.8814 - val_loss: 0.2883\n",
            "Epoch 32/100\n",
            "\u001b[1m1462/1462\u001b[0m \u001b[32m━━━━━━━━━━━━━━━━━━━━\u001b[0m\u001b[37m\u001b[0m \u001b[1m11s\u001b[0m 7ms/step - accuracy: 0.9008 - loss: 0.2312 - val_accuracy: 0.8861 - val_loss: 0.2810\n",
            "Epoch 33/100\n",
            "\u001b[1m1462/1462\u001b[0m \u001b[32m━━━━━━━━━━━━━━━━━━━━\u001b[0m\u001b[37m\u001b[0m \u001b[1m11s\u001b[0m 8ms/step - accuracy: 0.8997 - loss: 0.2303 - val_accuracy: 0.8877 - val_loss: 0.2775\n",
            "Epoch 34/100\n",
            "\u001b[1m1462/1462\u001b[0m \u001b[32m━━━━━━━━━━━━━━━━━━━━\u001b[0m\u001b[37m\u001b[0m \u001b[1m18s\u001b[0m 6ms/step - accuracy: 0.9048 - loss: 0.2231 - val_accuracy: 0.8869 - val_loss: 0.2763\n",
            "Epoch 35/100\n",
            "\u001b[1m1462/1462\u001b[0m \u001b[32m━━━━━━━━━━━━━━━━━━━━\u001b[0m\u001b[37m\u001b[0m \u001b[1m11s\u001b[0m 8ms/step - accuracy: 0.9037 - loss: 0.2207 - val_accuracy: 0.8856 - val_loss: 0.2765\n",
            "Epoch 36/100\n",
            "\u001b[1m1462/1462\u001b[0m \u001b[32m━━━━━━━━━━━━━━━━━━━━\u001b[0m\u001b[37m\u001b[0m \u001b[1m12s\u001b[0m 8ms/step - accuracy: 0.9058 - loss: 0.2207 - val_accuracy: 0.8871 - val_loss: 0.2804\n",
            "Epoch 37/100\n",
            "\u001b[1m1462/1462\u001b[0m \u001b[32m━━━━━━━━━━━━━━━━━━━━\u001b[0m\u001b[37m\u001b[0m \u001b[1m20s\u001b[0m 8ms/step - accuracy: 0.9049 - loss: 0.2210 - val_accuracy: 0.8899 - val_loss: 0.2815\n",
            "Epoch 38/100\n",
            "\u001b[1m1462/1462\u001b[0m \u001b[32m━━━━━━━━━━━━━━━━━━━━\u001b[0m\u001b[37m\u001b[0m \u001b[1m19s\u001b[0m 6ms/step - accuracy: 0.9075 - loss: 0.2141 - val_accuracy: 0.8899 - val_loss: 0.2735\n",
            "Epoch 39/100\n",
            "\u001b[1m1462/1462\u001b[0m \u001b[32m━━━━━━━━━━━━━━━━━━━━\u001b[0m\u001b[37m\u001b[0m \u001b[1m10s\u001b[0m 7ms/step - accuracy: 0.9052 - loss: 0.2160 - val_accuracy: 0.8904 - val_loss: 0.2782\n",
            "Epoch 40/100\n",
            "\u001b[1m1462/1462\u001b[0m \u001b[32m━━━━━━━━━━━━━━━━━━━━\u001b[0m\u001b[37m\u001b[0m \u001b[1m12s\u001b[0m 8ms/step - accuracy: 0.9080 - loss: 0.2105 - val_accuracy: 0.8914 - val_loss: 0.2818\n",
            "Epoch 41/100\n",
            "\u001b[1m1462/1462\u001b[0m \u001b[32m━━━━━━━━━━━━━━━━━━━━\u001b[0m\u001b[37m\u001b[0m \u001b[1m10s\u001b[0m 7ms/step - accuracy: 0.9090 - loss: 0.2118 - val_accuracy: 0.8896 - val_loss: 0.2754\n",
            "Epoch 42/100\n",
            "\u001b[1m1462/1462\u001b[0m \u001b[32m━━━━━━━━━━━━━━━━━━━━\u001b[0m\u001b[37m\u001b[0m \u001b[1m10s\u001b[0m 7ms/step - accuracy: 0.9122 - loss: 0.2066 - val_accuracy: 0.8873 - val_loss: 0.2798\n",
            "Epoch 43/100\n",
            "\u001b[1m1462/1462\u001b[0m \u001b[32m━━━━━━━━━━━━━━━━━━━━\u001b[0m\u001b[37m\u001b[0m \u001b[1m11s\u001b[0m 8ms/step - accuracy: 0.9101 - loss: 0.2102 - val_accuracy: 0.8906 - val_loss: 0.2763\n",
            "Epoch 44/100\n",
            "\u001b[1m1462/1462\u001b[0m \u001b[32m━━━━━━━━━━━━━━━━━━━━\u001b[0m\u001b[37m\u001b[0m \u001b[1m10s\u001b[0m 7ms/step - accuracy: 0.9123 - loss: 0.2026 - val_accuracy: 0.8898 - val_loss: 0.2824\n",
            "Epoch 45/100\n",
            "\u001b[1m1462/1462\u001b[0m \u001b[32m━━━━━━━━━━━━━━━━━━━━\u001b[0m\u001b[37m\u001b[0m \u001b[1m10s\u001b[0m 7ms/step - accuracy: 0.9126 - loss: 0.2073 - val_accuracy: 0.8916 - val_loss: 0.2736\n",
            "Epoch 46/100\n",
            "\u001b[1m1462/1462\u001b[0m \u001b[32m━━━━━━━━━━━━━━━━━━━━\u001b[0m\u001b[37m\u001b[0m \u001b[1m12s\u001b[0m 8ms/step - accuracy: 0.9140 - loss: 0.2044 - val_accuracy: 0.8939 - val_loss: 0.2728\n",
            "Epoch 47/100\n",
            "\u001b[1m1462/1462\u001b[0m \u001b[32m━━━━━━━━━━━━━━━━━━━━\u001b[0m\u001b[37m\u001b[0m \u001b[1m18s\u001b[0m 7ms/step - accuracy: 0.9154 - loss: 0.1997 - val_accuracy: 0.8936 - val_loss: 0.2760\n",
            "Epoch 48/100\n",
            "\u001b[1m1462/1462\u001b[0m \u001b[32m━━━━━━━━━━━━━━━━━━━━\u001b[0m\u001b[37m\u001b[0m \u001b[1m11s\u001b[0m 8ms/step - accuracy: 0.9161 - loss: 0.1997 - val_accuracy: 0.8906 - val_loss: 0.2730\n",
            "Epoch 49/100\n",
            "\u001b[1m1462/1462\u001b[0m \u001b[32m━━━━━━━━━━━━━━━━━━━━\u001b[0m\u001b[37m\u001b[0m \u001b[1m18s\u001b[0m 6ms/step - accuracy: 0.9162 - loss: 0.1973 - val_accuracy: 0.8939 - val_loss: 0.2710\n",
            "Epoch 50/100\n",
            "\u001b[1m1462/1462\u001b[0m \u001b[32m━━━━━━━━━━━━━━━━━━━━\u001b[0m\u001b[37m\u001b[0m \u001b[1m12s\u001b[0m 8ms/step - accuracy: 0.9162 - loss: 0.1980 - val_accuracy: 0.8934 - val_loss: 0.2758\n",
            "Epoch 51/100\n",
            "\u001b[1m1462/1462\u001b[0m \u001b[32m━━━━━━━━━━━━━━━━━━━━\u001b[0m\u001b[37m\u001b[0m \u001b[1m11s\u001b[0m 8ms/step - accuracy: 0.9148 - loss: 0.1987 - val_accuracy: 0.8934 - val_loss: 0.2746\n",
            "Epoch 52/100\n",
            "\u001b[1m1462/1462\u001b[0m \u001b[32m━━━━━━━━━━━━━━━━━━━━\u001b[0m\u001b[37m\u001b[0m \u001b[1m21s\u001b[0m 8ms/step - accuracy: 0.9175 - loss: 0.1916 - val_accuracy: 0.8933 - val_loss: 0.2718\n",
            "Epoch 53/100\n",
            "\u001b[1m1462/1462\u001b[0m \u001b[32m━━━━━━━━━━━━━━━━━━━━\u001b[0m\u001b[37m\u001b[0m \u001b[1m11s\u001b[0m 8ms/step - accuracy: 0.9155 - loss: 0.1936 - val_accuracy: 0.8922 - val_loss: 0.2779\n",
            "Epoch 54/100\n",
            "\u001b[1m1462/1462\u001b[0m \u001b[32m━━━━━━━━━━━━━━━━━━━━\u001b[0m\u001b[37m\u001b[0m \u001b[1m21s\u001b[0m 8ms/step - accuracy: 0.9193 - loss: 0.1913 - val_accuracy: 0.8941 - val_loss: 0.2740\n",
            "Epoch 55/100\n",
            "\u001b[1m1462/1462\u001b[0m \u001b[32m━━━━━━━━━━━━━━━━━━━━\u001b[0m\u001b[37m\u001b[0m \u001b[1m18s\u001b[0m 7ms/step - accuracy: 0.9189 - loss: 0.1920 - val_accuracy: 0.8938 - val_loss: 0.2889\n",
            "Epoch 56/100\n",
            "\u001b[1m1462/1462\u001b[0m \u001b[32m━━━━━━━━━━━━━━━━━━━━\u001b[0m\u001b[37m\u001b[0m \u001b[1m10s\u001b[0m 7ms/step - accuracy: 0.9206 - loss: 0.1863 - val_accuracy: 0.8927 - val_loss: 0.2788\n",
            "Epoch 57/100\n",
            "\u001b[1m1462/1462\u001b[0m \u001b[32m━━━━━━━━━━━━━━━━━━━━\u001b[0m\u001b[37m\u001b[0m \u001b[1m12s\u001b[0m 8ms/step - accuracy: 0.9198 - loss: 0.1905 - val_accuracy: 0.8933 - val_loss: 0.2787\n",
            "Epoch 58/100\n",
            "\u001b[1m1462/1462\u001b[0m \u001b[32m━━━━━━━━━━━━━━━━━━━━\u001b[0m\u001b[37m\u001b[0m \u001b[1m11s\u001b[0m 7ms/step - accuracy: 0.9230 - loss: 0.1855 - val_accuracy: 0.8956 - val_loss: 0.2830\n",
            "Epoch 59/100\n",
            "\u001b[1m1462/1462\u001b[0m \u001b[32m━━━━━━━━━━━━━━━━━━━━\u001b[0m\u001b[37m\u001b[0m \u001b[1m9s\u001b[0m 6ms/step - accuracy: 0.9230 - loss: 0.1801 - val_accuracy: 0.8981 - val_loss: 0.2792\n",
            "Epoch 60/100\n",
            "\u001b[1m1462/1462\u001b[0m \u001b[32m━━━━━━━━━━━━━━━━━━━━\u001b[0m\u001b[37m\u001b[0m \u001b[1m13s\u001b[0m 8ms/step - accuracy: 0.9203 - loss: 0.1896 - val_accuracy: 0.8956 - val_loss: 0.2723\n",
            "Epoch 61/100\n",
            "\u001b[1m1462/1462\u001b[0m \u001b[32m━━━━━━━━━━━━━━━━━━━━\u001b[0m\u001b[37m\u001b[0m \u001b[1m11s\u001b[0m 8ms/step - accuracy: 0.9215 - loss: 0.1830 - val_accuracy: 0.8934 - val_loss: 0.2811\n",
            "Epoch 62/100\n",
            "\u001b[1m1462/1462\u001b[0m \u001b[32m━━━━━━━━━━━━━━━━━━━━\u001b[0m\u001b[37m\u001b[0m \u001b[1m9s\u001b[0m 6ms/step - accuracy: 0.9216 - loss: 0.1856 - val_accuracy: 0.8957 - val_loss: 0.2812\n",
            "Epoch 63/100\n",
            "\u001b[1m1462/1462\u001b[0m \u001b[32m━━━━━━━━━━━━━━━━━━━━\u001b[0m\u001b[37m\u001b[0m \u001b[1m11s\u001b[0m 7ms/step - accuracy: 0.9265 - loss: 0.1783 - val_accuracy: 0.8939 - val_loss: 0.2761\n",
            "Epoch 64/100\n",
            "\u001b[1m1462/1462\u001b[0m \u001b[32m━━━━━━━━━━━━━━━━━━━━\u001b[0m\u001b[37m\u001b[0m \u001b[1m12s\u001b[0m 8ms/step - accuracy: 0.9253 - loss: 0.1780 - val_accuracy: 0.8945 - val_loss: 0.2849\n",
            "Epoch 65/100\n",
            "\u001b[1m1462/1462\u001b[0m \u001b[32m━━━━━━━━━━━━━━━━━━━━\u001b[0m\u001b[37m\u001b[0m \u001b[1m19s\u001b[0m 7ms/step - accuracy: 0.9217 - loss: 0.1828 - val_accuracy: 0.8951 - val_loss: 0.2854\n",
            "Epoch 66/100\n",
            "\u001b[1m1462/1462\u001b[0m \u001b[32m━━━━━━━━━━━━━━━━━━━━\u001b[0m\u001b[37m\u001b[0m \u001b[1m12s\u001b[0m 8ms/step - accuracy: 0.9238 - loss: 0.1795 - val_accuracy: 0.8951 - val_loss: 0.2927\n",
            "Epoch 67/100\n",
            "\u001b[1m1462/1462\u001b[0m \u001b[32m━━━━━━━━━━━━━━━━━━━━\u001b[0m\u001b[37m\u001b[0m \u001b[1m10s\u001b[0m 7ms/step - accuracy: 0.9257 - loss: 0.1793 - val_accuracy: 0.8970 - val_loss: 0.2739\n",
            "Epoch 68/100\n",
            "\u001b[1m1462/1462\u001b[0m \u001b[32m━━━━━━━━━━━━━━━━━━━━\u001b[0m\u001b[37m\u001b[0m \u001b[1m10s\u001b[0m 7ms/step - accuracy: 0.9261 - loss: 0.1770 - val_accuracy: 0.8975 - val_loss: 0.2724\n",
            "Epoch 69/100\n",
            "\u001b[1m1462/1462\u001b[0m \u001b[32m━━━━━━━━━━━━━━━━━━━━\u001b[0m\u001b[37m\u001b[0m \u001b[1m12s\u001b[0m 8ms/step - accuracy: 0.9241 - loss: 0.1760 - val_accuracy: 0.8980 - val_loss: 0.2816\n",
            "Epoch 70/100\n",
            "\u001b[1m1462/1462\u001b[0m \u001b[32m━━━━━━━━━━━━━━━━━━━━\u001b[0m\u001b[37m\u001b[0m \u001b[1m17s\u001b[0m 6ms/step - accuracy: 0.9252 - loss: 0.1768 - val_accuracy: 0.8968 - val_loss: 0.2867\n",
            "Epoch 71/100\n",
            "\u001b[1m1462/1462\u001b[0m \u001b[32m━━━━━━━━━━━━━━━━━━━━\u001b[0m\u001b[37m\u001b[0m \u001b[1m11s\u001b[0m 8ms/step - accuracy: 0.9255 - loss: 0.1793 - val_accuracy: 0.8990 - val_loss: 0.2727\n",
            "Epoch 72/100\n",
            "\u001b[1m1462/1462\u001b[0m \u001b[32m━━━━━━━━━━━━━━━━━━━━\u001b[0m\u001b[37m\u001b[0m \u001b[1m12s\u001b[0m 8ms/step - accuracy: 0.9254 - loss: 0.1757 - val_accuracy: 0.8976 - val_loss: 0.2747\n",
            "Epoch 73/100\n",
            "\u001b[1m1462/1462\u001b[0m \u001b[32m━━━━━━━━━━━━━━━━━━━━\u001b[0m\u001b[37m\u001b[0m \u001b[1m21s\u001b[0m 8ms/step - accuracy: 0.9288 - loss: 0.1728 - val_accuracy: 0.8983 - val_loss: 0.2826\n",
            "Epoch 74/100\n",
            "\u001b[1m1462/1462\u001b[0m \u001b[32m━━━━━━━━━━━━━━━━━━━━\u001b[0m\u001b[37m\u001b[0m \u001b[1m12s\u001b[0m 8ms/step - accuracy: 0.9299 - loss: 0.1690 - val_accuracy: 0.8969 - val_loss: 0.2790\n",
            "Epoch 75/100\n",
            "\u001b[1m1462/1462\u001b[0m \u001b[32m━━━━━━━━━━━━━━━━━━━━\u001b[0m\u001b[37m\u001b[0m \u001b[1m20s\u001b[0m 8ms/step - accuracy: 0.9303 - loss: 0.1677 - val_accuracy: 0.8978 - val_loss: 0.2881\n",
            "Epoch 76/100\n",
            "\u001b[1m1462/1462\u001b[0m \u001b[32m━━━━━━━━━━━━━━━━━━━━\u001b[0m\u001b[37m\u001b[0m \u001b[1m19s\u001b[0m 7ms/step - accuracy: 0.9285 - loss: 0.1728 - val_accuracy: 0.8998 - val_loss: 0.2804\n",
            "Epoch 77/100\n",
            "\u001b[1m1462/1462\u001b[0m \u001b[32m━━━━━━━━━━━━━━━━━━━━\u001b[0m\u001b[37m\u001b[0m \u001b[1m11s\u001b[0m 7ms/step - accuracy: 0.9283 - loss: 0.1702 - val_accuracy: 0.8985 - val_loss: 0.2753\n",
            "Epoch 78/100\n",
            "\u001b[1m1462/1462\u001b[0m \u001b[32m━━━━━━━━━━━━━━━━━━━━\u001b[0m\u001b[37m\u001b[0m \u001b[1m11s\u001b[0m 8ms/step - accuracy: 0.9278 - loss: 0.1699 - val_accuracy: 0.8993 - val_loss: 0.2801\n",
            "Epoch 79/100\n",
            "\u001b[1m1462/1462\u001b[0m \u001b[32m━━━━━━━━━━━━━━━━━━━━\u001b[0m\u001b[37m\u001b[0m \u001b[1m18s\u001b[0m 6ms/step - accuracy: 0.9300 - loss: 0.1689 - val_accuracy: 0.8986 - val_loss: 0.2807\n",
            "Epoch 80/100\n",
            "\u001b[1m1462/1462\u001b[0m \u001b[32m━━━━━━━━━━━━━━━━━━━━\u001b[0m\u001b[37m\u001b[0m \u001b[1m11s\u001b[0m 8ms/step - accuracy: 0.9275 - loss: 0.1708 - val_accuracy: 0.8997 - val_loss: 0.2823\n",
            "Epoch 81/100\n",
            "\u001b[1m1462/1462\u001b[0m \u001b[32m━━━━━━━━━━━━━━━━━━━━\u001b[0m\u001b[37m\u001b[0m \u001b[1m19s\u001b[0m 7ms/step - accuracy: 0.9297 - loss: 0.1678 - val_accuracy: 0.9014 - val_loss: 0.2908\n",
            "Epoch 82/100\n",
            "\u001b[1m1462/1462\u001b[0m \u001b[32m━━━━━━━━━━━━━━━━━━━━\u001b[0m\u001b[37m\u001b[0m \u001b[1m15s\u001b[0m 10ms/step - accuracy: 0.9277 - loss: 0.1698 - val_accuracy: 0.8998 - val_loss: 0.2796\n",
            "Epoch 83/100\n",
            "\u001b[1m1462/1462\u001b[0m \u001b[32m━━━━━━━━━━━━━━━━━━━━\u001b[0m\u001b[37m\u001b[0m \u001b[1m16s\u001b[0m 7ms/step - accuracy: 0.9283 - loss: 0.1695 - val_accuracy: 0.9007 - val_loss: 0.2780\n",
            "Epoch 84/100\n",
            "\u001b[1m1462/1462\u001b[0m \u001b[32m━━━━━━━━━━━━━━━━━━━━\u001b[0m\u001b[37m\u001b[0m \u001b[1m10s\u001b[0m 7ms/step - accuracy: 0.9299 - loss: 0.1683 - val_accuracy: 0.8996 - val_loss: 0.2957\n",
            "Epoch 85/100\n",
            "\u001b[1m1462/1462\u001b[0m \u001b[32m━━━━━━━━━━━━━━━━━━━━\u001b[0m\u001b[37m\u001b[0m \u001b[1m11s\u001b[0m 8ms/step - accuracy: 0.9321 - loss: 0.1627 - val_accuracy: 0.8973 - val_loss: 0.2831\n",
            "Epoch 86/100\n",
            "\u001b[1m1462/1462\u001b[0m \u001b[32m━━━━━━━━━━━━━━━━━━━━\u001b[0m\u001b[37m\u001b[0m \u001b[1m11s\u001b[0m 8ms/step - accuracy: 0.9297 - loss: 0.1662 - val_accuracy: 0.8996 - val_loss: 0.2774\n",
            "Epoch 87/100\n",
            "\u001b[1m1462/1462\u001b[0m \u001b[32m━━━━━━━━━━━━━━━━━━━━\u001b[0m\u001b[37m\u001b[0m \u001b[1m9s\u001b[0m 6ms/step - accuracy: 0.9339 - loss: 0.1573 - val_accuracy: 0.8954 - val_loss: 0.2782\n",
            "Epoch 88/100\n",
            "\u001b[1m1462/1462\u001b[0m \u001b[32m━━━━━━━━━━━━━━━━━━━━\u001b[0m\u001b[37m\u001b[0m \u001b[1m12s\u001b[0m 8ms/step - accuracy: 0.9350 - loss: 0.1628 - val_accuracy: 0.8969 - val_loss: 0.2836\n",
            "Epoch 89/100\n",
            "\u001b[1m1462/1462\u001b[0m \u001b[32m━━━━━━━━━━━━━━━━━━━━\u001b[0m\u001b[37m\u001b[0m \u001b[1m12s\u001b[0m 8ms/step - accuracy: 0.9295 - loss: 0.1618 - val_accuracy: 0.9002 - val_loss: 0.2804\n",
            "Epoch 90/100\n",
            "\u001b[1m1462/1462\u001b[0m \u001b[32m━━━━━━━━━━━━━━━━━━━━\u001b[0m\u001b[37m\u001b[0m \u001b[1m21s\u001b[0m 8ms/step - accuracy: 0.9336 - loss: 0.1603 - val_accuracy: 0.8991 - val_loss: 0.2794\n",
            "Epoch 91/100\n",
            "\u001b[1m1462/1462\u001b[0m \u001b[32m━━━━━━━━━━━━━━━━━━━━\u001b[0m\u001b[37m\u001b[0m \u001b[1m19s\u001b[0m 7ms/step - accuracy: 0.9330 - loss: 0.1603 - val_accuracy: 0.8985 - val_loss: 0.2843\n",
            "Epoch 92/100\n",
            "\u001b[1m1462/1462\u001b[0m \u001b[32m━━━━━━━━━━━━━━━━━━━━\u001b[0m\u001b[37m\u001b[0m \u001b[1m11s\u001b[0m 7ms/step - accuracy: 0.9324 - loss: 0.1618 - val_accuracy: 0.8998 - val_loss: 0.2876\n",
            "Epoch 93/100\n",
            "\u001b[1m1462/1462\u001b[0m \u001b[32m━━━━━━━━━━━━━━━━━━━━\u001b[0m\u001b[37m\u001b[0m \u001b[1m22s\u001b[0m 8ms/step - accuracy: 0.9323 - loss: 0.1619 - val_accuracy: 0.9002 - val_loss: 0.2865\n",
            "Epoch 94/100\n",
            "\u001b[1m1462/1462\u001b[0m \u001b[32m━━━━━━━━━━━━━━━━━━━━\u001b[0m\u001b[37m\u001b[0m \u001b[1m10s\u001b[0m 7ms/step - accuracy: 0.9343 - loss: 0.1588 - val_accuracy: 0.8981 - val_loss: 0.2803\n",
            "Epoch 95/100\n",
            "\u001b[1m1462/1462\u001b[0m \u001b[32m━━━━━━━━━━━━━━━━━━━━\u001b[0m\u001b[37m\u001b[0m \u001b[1m11s\u001b[0m 7ms/step - accuracy: 0.9332 - loss: 0.1618 - val_accuracy: 0.8996 - val_loss: 0.2968\n",
            "Epoch 96/100\n",
            "\u001b[1m1462/1462\u001b[0m \u001b[32m━━━━━━━━━━━━━━━━━━━━\u001b[0m\u001b[37m\u001b[0m \u001b[1m21s\u001b[0m 8ms/step - accuracy: 0.9297 - loss: 0.1628 - val_accuracy: 0.9005 - val_loss: 0.2843\n",
            "Epoch 97/100\n",
            "\u001b[1m1462/1462\u001b[0m \u001b[32m━━━━━━━━━━━━━━━━━━━━\u001b[0m\u001b[37m\u001b[0m \u001b[1m10s\u001b[0m 7ms/step - accuracy: 0.9341 - loss: 0.1609 - val_accuracy: 0.8995 - val_loss: 0.2834\n",
            "Epoch 98/100\n",
            "\u001b[1m1462/1462\u001b[0m \u001b[32m━━━━━━━━━━━━━━━━━━━━\u001b[0m\u001b[37m\u001b[0m \u001b[1m12s\u001b[0m 8ms/step - accuracy: 0.9343 - loss: 0.1563 - val_accuracy: 0.9000 - val_loss: 0.2939\n",
            "Epoch 99/100\n",
            "\u001b[1m1462/1462\u001b[0m \u001b[32m━━━━━━━━━━━━━━━━━━━━\u001b[0m\u001b[37m\u001b[0m \u001b[1m18s\u001b[0m 7ms/step - accuracy: 0.9353 - loss: 0.1591 - val_accuracy: 0.8992 - val_loss: 0.2809\n",
            "Epoch 100/100\n",
            "\u001b[1m1462/1462\u001b[0m \u001b[32m━━━━━━━━━━━━━━━━━━━━\u001b[0m\u001b[37m\u001b[0m \u001b[1m11s\u001b[0m 7ms/step - accuracy: 0.9321 - loss: 0.1611 - val_accuracy: 0.9022 - val_loss: 0.2745\n"
          ]
        }
      ]
    },
    {
      "cell_type": "markdown",
      "source": [
        "Evaluating the neural network model"
      ],
      "metadata": {
        "id": "eOOKL2q0U2rd"
      }
    },
    {
      "cell_type": "code",
      "source": [
        "test_loss, test_accuracy = model.evaluate(X_test, y_test, verbose=1)\n",
        "\n",
        "print(f\"\\nTest Accuracy: {test_accuracy * 100:.2f}%\")\n",
        "print(f\"Test Loss: {test_loss:.4f}\")"
      ],
      "metadata": {
        "colab": {
          "base_uri": "https://localhost:8080/"
        },
        "id": "0D9pFxVGU5cJ",
        "outputId": "9913262c-545b-42b9-ec58-83476163d7e4"
      },
      "execution_count": null,
      "outputs": [
        {
          "output_type": "stream",
          "name": "stdout",
          "text": [
            "\u001b[1m457/457\u001b[0m \u001b[32m━━━━━━━━━━━━━━━━━━━━\u001b[0m\u001b[37m\u001b[0m \u001b[1m1s\u001b[0m 2ms/step - accuracy: 0.8961 - loss: 0.2751\n",
            "\n",
            "Test Accuracy: 90.08%\n",
            "Test Loss: 0.2776\n"
          ]
        }
      ]
    },
    {
      "cell_type": "markdown",
      "source": [
        "Classification report for the neural network"
      ],
      "metadata": {
        "id": "TW9p1AUc__r8"
      }
    },
    {
      "cell_type": "code",
      "source": [
        "from sklearn.metrics import classification_report, confusion_matrix\n",
        "\n",
        "y_pred = (model.predict(X_test) > 0.5).astype(int)\n",
        "\n",
        "# Classification Report\n",
        "report = classification_report(y_test, y_pred, target_names=['Class 0 (No)', 'Class 1 (Yes)'])\n",
        "print(\"\\nClassification Report:\")\n",
        "print(report)\n",
        "\n",
        "# Confusion Matrix\n",
        "matrix = confusion_matrix(y_test, y_pred)\n",
        "print(\"\\nConfusion Matrix:\")\n",
        "print(matrix)"
      ],
      "metadata": {
        "colab": {
          "base_uri": "https://localhost:8080/"
        },
        "id": "gWOZbUV_hLb8",
        "outputId": "27637509-7277-4d3a-abfc-a9d8f6143dae"
      },
      "execution_count": null,
      "outputs": [
        {
          "output_type": "stream",
          "name": "stdout",
          "text": [
            "\u001b[1m457/457\u001b[0m \u001b[32m━━━━━━━━━━━━━━━━━━━━\u001b[0m\u001b[37m\u001b[0m \u001b[1m1s\u001b[0m 2ms/step\n",
            "\n",
            "Classification Report:\n",
            "               precision    recall  f1-score   support\n",
            "\n",
            " Class 0 (No)       0.90      0.90      0.90      7308\n",
            "Class 1 (Yes)       0.90      0.90      0.90      7307\n",
            "\n",
            "     accuracy                           0.90     14615\n",
            "    macro avg       0.90      0.90      0.90     14615\n",
            " weighted avg       0.90      0.90      0.90     14615\n",
            "\n",
            "\n",
            "Confusion Matrix:\n",
            "[[6566  742]\n",
            " [ 708 6599]]\n"
          ]
        }
      ]
    },
    {
      "cell_type": "markdown",
      "source": [
        "Plotting training and validation accuracy and loss trends"
      ],
      "metadata": {
        "id": "ft59t-Y1tuC2"
      }
    },
    {
      "cell_type": "code",
      "source": [
        "import matplotlib.pyplot as plt"
      ],
      "metadata": {
        "id": "8H6zXzabttb2"
      },
      "execution_count": null,
      "outputs": []
    },
    {
      "cell_type": "code",
      "source": [
        "# Accuracy\n",
        "plt.figure(figsize=(5, 4))\n",
        "plt.plot(history.history['accuracy'], label='Training Accuracy')\n",
        "plt.plot(history.history['val_accuracy'], label='Validation Accuracy')\n",
        "plt.title('Model Accuracy')\n",
        "plt.xlabel('Epochs')\n",
        "plt.ylabel('Accuracy')\n",
        "plt.legend()\n",
        "plt.show()\n",
        "\n",
        "# Loss\n",
        "plt.figure(figsize=(5, 4))\n",
        "plt.plot(history.history['loss'], label='Training Loss')\n",
        "plt.plot(history.history['val_loss'], label='Validation Loss')\n",
        "plt.title('Model Loss')\n",
        "plt.xlabel('Epochs')\n",
        "plt.ylabel('Loss')\n",
        "plt.legend()\n",
        "plt.show()\n"
      ],
      "metadata": {
        "colab": {
          "base_uri": "https://localhost:8080/",
          "height": 803
        },
        "id": "vOlmcNlEtrEy",
        "outputId": "9b82eae0-3b3d-4cf1-8fae-e7a5d86ddd4f"
      },
      "execution_count": null,
      "outputs": [
        {
          "output_type": "display_data",
          "data": {
            "text/plain": [
              "<Figure size 500x400 with 1 Axes>"
            ],
            "image/png": "[encoded data removed]"
          },
          "metadata": {}
        },
        {
          "output_type": "display_data",
          "data": {
            "text/plain": [
              "<Figure size 500x400 with 1 Axes>"
            ],
            "image/png": "[encoded data removed]"
          },
          "metadata": {}
        }
      ]
    },
    {
      "cell_type": "markdown",
      "source": [
        "Confusion matrix for the neural network"
      ],
      "metadata": {
        "id": "bzwXN4mbuGZy"
      }
    },
    {
      "cell_type": "code",
      "source": [
        "from sklearn.metrics import confusion_matrix\n",
        "import matplotlib.pyplot as plt\n",
        "import numpy as np\n",
        "import itertools"
      ],
      "metadata": {
        "id": "3V_nqXZV0LiO"
      },
      "execution_count": null,
      "outputs": []
    },
    {
      "cell_type": "code",
      "source": [
        "y_pred = (model.predict(X_test) > 0.5).astype(int)\n",
        "\n",
        "matrix = confusion_matrix(y_test, y_pred)\n",
        "\n",
        "# Ploting the confusion matrix\n",
        "def plot_confusion_matrix(cm, classes, title='Confusion Matrix', cmap=plt.cm.Blues):\n",
        "    plt.figure(figsize=(5, 4))\n",
        "    plt.imshow(cm, interpolation='nearest', cmap=cmap)\n",
        "    plt.title(title)\n",
        "    plt.colorbar()\n",
        "    tick_marks = np.arange(len(classes))\n",
        "    plt.xticks(tick_marks, classes, rotation=45)\n",
        "    plt.yticks(tick_marks, classes)\n",
        "\n",
        "\n",
        "    thresh = cm.max() / 2\n",
        "    for i, j in itertools.product(range(cm.shape[0]), range(cm.shape[1])):\n",
        "        plt.text(j, i, f\"{cm[i, j]}\", horizontalalignment=\"center\",\n",
        "                 color=\"white\" if cm[i, j] > thresh else \"black\")\n",
        "\n",
        "    plt.ylabel('True Label')\n",
        "    plt.xlabel('Predicted Label')\n",
        "    plt.tight_layout()\n",
        "\n",
        "class_names = ['No', 'Yes']\n",
        "\n",
        "plot_confusion_matrix(matrix, classes=class_names, title='Confusion Matrix')\n",
        "plt.show()"
      ],
      "metadata": {
        "colab": {
          "base_uri": "https://localhost:8080/",
          "height": 424
        },
        "id": "QHOcUpbauH9D",
        "outputId": "db18aabc-ca12-4d1e-84d8-695f4e4944ad"
      },
      "execution_count": null,
      "outputs": [
        {
          "output_type": "stream",
          "name": "stdout",
          "text": [
            "\u001b[1m457/457\u001b[0m \u001b[32m━━━━━━━━━━━━━━━━━━━━\u001b[0m\u001b[37m\u001b[0m \u001b[1m1s\u001b[0m 2ms/step\n"
          ]
        },
        {
          "output_type": "display_data",
          "data": {
            "text/plain": [
              "<Figure size 500x400 with 2 Axes>"
            ],
            "image/png": "[encoded data removed]"
          },
          "metadata": {}
        }
      ]
    },
    {
      "cell_type": "markdown",
      "source": [
        "ROC curve for the neural network"
      ],
      "metadata": {
        "id": "fE0IWGWhAL6t"
      }
    },
    {
      "cell_type": "code",
      "source": [
        "from sklearn.metrics import roc_curve, auc\n",
        "\n",
        "y_pred_prob = model.predict(X_test)\n",
        "fpr, tpr, thresholds = roc_curve(y_test, y_pred_prob)\n",
        "roc_auc = auc(fpr, tpr)\n",
        "\n",
        "# Plot ROC curve\n",
        "plt.figure(figsize=(5, 4))\n",
        "plt.plot(fpr, tpr, color='blue', lw=2, label=f'ROC curve (AUC = {roc_auc:.2f})')\n",
        "plt.plot([0, 1], [0, 1], color='gray', linestyle='--', lw=2)  # Diagonal line\n",
        "plt.xlim([0.0, 1.0])\n",
        "plt.ylim([0.0, 1.05])\n",
        "plt.xlabel('False Positive Rate')\n",
        "plt.ylabel('True Positive Rate')\n",
        "plt.title('(ROC) Curve')\n",
        "plt.legend(loc='lower right')\n",
        "plt.grid(alpha=0.5)\n",
        "plt.show()"
      ],
      "metadata": {
        "colab": {
          "base_uri": "https://localhost:8080/",
          "height": 427
        },
        "id": "C6QLJous2DfK",
        "outputId": "2f2974d8-15a0-429f-885f-101ecddcbbb0"
      },
      "execution_count": null,
      "outputs": [
        {
          "output_type": "stream",
          "name": "stdout",
          "text": [
            "\u001b[1m457/457\u001b[0m \u001b[32m━━━━━━━━━━━━━━━━━━━━\u001b[0m\u001b[37m\u001b[0m \u001b[1m1s\u001b[0m 2ms/step\n"
          ]
        },
        {
          "output_type": "display_data",
          "data": {
            "text/plain": [
              "<Figure size 500x400 with 1 Axes>"
            ],
            "image/png": "[encoded data removed]"
          },
          "metadata": {}
        }
      ]
    },
    {
      "cell_type": "markdown",
      "source": [
        "Building the random forest model"
      ],
      "metadata": {
        "id": "9cUv66ti2d1f"
      }
    },
    {
      "cell_type": "code",
      "source": [
        "from sklearn.ensemble import RandomForestClassifier\n",
        "from sklearn.metrics import accuracy_score"
      ],
      "metadata": {
        "id": "ZYjqm1Xn2gLu"
      },
      "execution_count": null,
      "outputs": []
    },
    {
      "cell_type": "code",
      "source": [
        "# Building the model\n",
        "rf_model = RandomForestClassifier(\n",
        "    n_estimators=100,\n",
        "    max_depth=None,\n",
        "    random_state=42,\n",
        ")"
      ],
      "metadata": {
        "id": "mG4pedI33ViN"
      },
      "execution_count": null,
      "outputs": []
    },
    {
      "cell_type": "code",
      "source": [
        "# Training the model\n",
        "rf_model.fit(X_train, y_train)"
      ],
      "metadata": {
        "colab": {
          "base_uri": "https://localhost:8080/",
          "height": 80
        },
        "id": "fTdbEVMU3XbR",
        "outputId": "3b92c927-2d53-4354-9296-d40b9fc22f87"
      },
      "execution_count": null,
      "outputs": [
        {
          "output_type": "execute_result",
          "data": {
            "text/plain": [
              "RandomForestClassifier(random_state=42)"
            ],
            "text/html": [
              "<style>#sk-container-id-1 {\n",
              "  /* Definition of color scheme common for light and dark mode */\n",
              "  --sklearn-color-text: #000;\n",
              "  --sklearn-color-text-muted: #666;\n",
              "  --sklearn-color-line: gray;\n",
              "  /* Definition of color scheme for unfitted estimators */\n",
              "  --sklearn-color-unfitted-level-0: #fff5e6;\n",
              "  --sklearn-color-unfitted-level-1: #f6e4d2;\n",
              "  --sklearn-color-unfitted-level-2: #ffe0b3;\n",
              "  --sklearn-color-unfitted-level-3: chocolate;\n",
              "  /* Definition of color scheme for fitted estimators */\n",
              "  --sklearn-color-fitted-level-0: #f0f8ff;\n",
              "  --sklearn-color-fitted-level-1: #d4ebff;\n",
              "  --sklearn-color-fitted-level-2: #b3dbfd;\n",
              "  --sklearn-color-fitted-level-3: cornflowerblue;\n",
              "\n",
              "  /* Specific color for light theme */\n",
              "  --sklearn-color-text-on-default-background: var(--sg-text-color, var(--theme-code-foreground, var(--jp-content-font-color1, black)));\n",
              "  --sklearn-color-background: var(--sg-background-color, var(--theme-background, var(--jp-layout-color0, white)));\n",
              "  --sklearn-color-border-box: var(--sg-text-color, var(--theme-code-foreground, var(--jp-content-font-color1, black)));\n",
              "  --sklearn-color-icon: #696969;\n",
              "\n",
              "  @media (prefers-color-scheme: dark) {\n",
              "    /* Redefinition of color scheme for dark theme */\n",
              "    --sklearn-color-text-on-default-background: var(--sg-text-color, var(--theme-code-foreground, var(--jp-content-font-color1, white)));\n",
              "    --sklearn-color-background: var(--sg-background-color, var(--theme-background, var(--jp-layout-color0, #111)));\n",
              "    --sklearn-color-border-box: var(--sg-text-color, var(--theme-code-foreground, var(--jp-content-font-color1, white)));\n",
              "    --sklearn-color-icon: #878787;\n",
              "  }\n",
              "}\n",
              "\n",
              "#sk-container-id-1 {\n",
              "  color: var(--sklearn-color-text);\n",
              "}\n",
              "\n",
              "#sk-container-id-1 pre {\n",
              "  padding: 0;\n",
              "}\n",
              "\n",
              "#sk-container-id-1 input.sk-hidden--visually {\n",
              "  border: 0;\n",
              "  clip: rect(1px 1px 1px 1px);\n",
              "  clip: rect(1px, 1px, 1px, 1px);\n",
              "  height: 1px;\n",
              "  margin: -1px;\n",
              "  overflow: hidden;\n",
              "  padding: 0;\n",
              "  position: absolute;\n",
              "  width: 1px;\n",
              "}\n",
              "\n",
              "#sk-container-id-1 div.sk-dashed-wrapped {\n",
              "  border: 1px dashed var(--sklearn-color-line);\n",
              "  margin: 0 0.4em 0.5em 0.4em;\n",
              "  box-sizing: border-box;\n",
              "  padding-bottom: 0.4em;\n",
              "  background-color: var(--sklearn-color-background);\n",
              "}\n",
              "\n",
              "#sk-container-id-1 div.sk-container {\n",
              "  /* jupyter's `normalize.less` sets `[hidden] { display: none; }`\n",
              "     but bootstrap.min.css set `[hidden] { display: none !important; }`\n",
              "     so we also need the `!important` here to be able to override the\n",
              "     default hidden behavior on the sphinx rendered scikit-learn.org.\n",
              "     See: https://github.com/scikit-learn/scikit-learn/issues/21755 */\n",
              "  display: inline-block !important;\n",
              "  position: relative;\n",
              "}\n",
              "\n",
              "#sk-container-id-1 div.sk-text-repr-fallback {\n",
              "  display: none;\n",
              "}\n",
              "\n",
              "div.sk-parallel-item,\n",
              "div.sk-serial,\n",
              "div.sk-item {\n",
              "  /* draw centered vertical line to link estimators */\n",
              "  background-image: linear-gradient(var(--sklearn-color-text-on-default-background), var(--sklearn-color-text-on-default-background));\n",
              "  background-size: 2px 100%;\n",
              "  background-repeat: no-repeat;\n",
              "  background-position: center center;\n",
              "}\n",
              "\n",
              "/* Parallel-specific style estimator block */\n",
              "\n",
              "#sk-container-id-1 div.sk-parallel-item::after {\n",
              "  content: \"\";\n",
              "  width: 100%;\n",
              "  border-bottom: 2px solid var(--sklearn-color-text-on-default-background);\n",
              "  flex-grow: 1;\n",
              "}\n",
              "\n",
              "#sk-container-id-1 div.sk-parallel {\n",
              "  display: flex;\n",
              "  align-items: stretch;\n",
              "  justify-content: center;\n",
              "  background-color: var(--sklearn-color-background);\n",
              "  position: relative;\n",
              "}\n",
              "\n",
              "#sk-container-id-1 div.sk-parallel-item {\n",
              "  display: flex;\n",
              "  flex-direction: column;\n",
              "}\n",
              "\n",
              "#sk-container-id-1 div.sk-parallel-item:first-child::after {\n",
              "  align-self: flex-end;\n",
              "  width: 50%;\n",
              "}\n",
              "\n",
              "#sk-container-id-1 div.sk-parallel-item:last-child::after {\n",
              "  align-self: flex-start;\n",
              "  width: 50%;\n",
              "}\n",
              "\n",
              "#sk-container-id-1 div.sk-parallel-item:only-child::after {\n",
              "  width: 0;\n",
              "}\n",
              "\n",
              "/* Serial-specific style estimator block */\n",
              "\n",
              "#sk-container-id-1 div.sk-serial {\n",
              "  display: flex;\n",
              "  flex-direction: column;\n",
              "  align-items: center;\n",
              "  background-color: var(--sklearn-color-background);\n",
              "  padding-right: 1em;\n",
              "  padding-left: 1em;\n",
              "}\n",
              "\n",
              "\n",
              "/* Toggleable style: style used for estimator/Pipeline/ColumnTransformer box that is\n",
              "clickable and can be expanded/collapsed.\n",
              "- Pipeline and ColumnTransformer use this feature and define the default style\n",
              "- Estimators will overwrite some part of the style using the `sk-estimator` class\n",
              "*/\n",
              "\n",
              "/* Pipeline and ColumnTransformer style (default) */\n",
              "\n",
              "#sk-container-id-1 div.sk-toggleable {\n",
              "  /* Default theme specific background. It is overwritten whether we have a\n",
              "  specific estimator or a Pipeline/ColumnTransformer */\n",
              "  background-color: var(--sklearn-color-background);\n",
              "}\n",
              "\n",
              "/* Toggleable label */\n",
              "#sk-container-id-1 label.sk-toggleable__label {\n",
              "  cursor: pointer;\n",
              "  display: flex;\n",
              "  width: 100%;\n",
              "  margin-bottom: 0;\n",
              "  padding: 0.5em;\n",
              "  box-sizing: border-box;\n",
              "  text-align: center;\n",
              "  align-items: start;\n",
              "  justify-content: space-between;\n",
              "  gap: 0.5em;\n",
              "}\n",
              "\n",
              "#sk-container-id-1 label.sk-toggleable__label .caption {\n",
              "  font-size: 0.6rem;\n",
              "  font-weight: lighter;\n",
              "  color: var(--sklearn-color-text-muted);\n",
              "}\n",
              "\n",
              "#sk-container-id-1 label.sk-toggleable__label-arrow:before {\n",
              "  /* Arrow on the left of the label */\n",
              "  content: \"▸\";\n",
              "  float: left;\n",
              "  margin-right: 0.25em;\n",
              "  color: var(--sklearn-color-icon);\n",
              "}\n",
              "\n",
              "#sk-container-id-1 label.sk-toggleable__label-arrow:hover:before {\n",
              "  color: var(--sklearn-color-text);\n",
              "}\n",
              "\n",
              "/* Toggleable content - dropdown */\n",
              "\n",
              "#sk-container-id-1 div.sk-toggleable__content {\n",
              "  max-height: 0;\n",
              "  max-width: 0;\n",
              "  overflow: hidden;\n",
              "  text-align: left;\n",
              "  /* unfitted */\n",
              "  background-color: var(--sklearn-color-unfitted-level-0);\n",
              "}\n",
              "\n",
              "#sk-container-id-1 div.sk-toggleable__content.fitted {\n",
              "  /* fitted */\n",
              "  background-color: var(--sklearn-color-fitted-level-0);\n",
              "}\n",
              "\n",
              "#sk-container-id-1 div.sk-toggleable__content pre {\n",
              "  margin: 0.2em;\n",
              "  border-radius: 0.25em;\n",
              "  color: var(--sklearn-color-text);\n",
              "  /* unfitted */\n",
              "  background-color: var(--sklearn-color-unfitted-level-0);\n",
              "}\n",
              "\n",
              "#sk-container-id-1 div.sk-toggleable__content.fitted pre {\n",
              "  /* unfitted */\n",
              "  background-color: var(--sklearn-color-fitted-level-0);\n",
              "}\n",
              "\n",
              "#sk-container-id-1 input.sk-toggleable__control:checked~div.sk-toggleable__content {\n",
              "  /* Expand drop-down */\n",
              "  max-height: 200px;\n",
              "  max-width: 100%;\n",
              "  overflow: auto;\n",
              "}\n",
              "\n",
              "#sk-container-id-1 input.sk-toggleable__control:checked~label.sk-toggleable__label-arrow:before {\n",
              "  content: \"▾\";\n",
              "}\n",
              "\n",
              "/* Pipeline/ColumnTransformer-specific style */\n",
              "\n",
              "#sk-container-id-1 div.sk-label input.sk-toggleable__control:checked~label.sk-toggleable__label {\n",
              "  color: var(--sklearn-color-text);\n",
              "  background-color: var(--sklearn-color-unfitted-level-2);\n",
              "}\n",
              "\n",
              "#sk-container-id-1 div.sk-label.fitted input.sk-toggleable__control:checked~label.sk-toggleable__label {\n",
              "  background-color: var(--sklearn-color-fitted-level-2);\n",
              "}\n",
              "\n",
              "/* Estimator-specific style */\n",
              "\n",
              "/* Colorize estimator box */\n",
              "#sk-container-id-1 div.sk-estimator input.sk-toggleable__control:checked~label.sk-toggleable__label {\n",
              "  /* unfitted */\n",
              "  background-color: var(--sklearn-color-unfitted-level-2);\n",
              "}\n",
              "\n",
              "#sk-container-id-1 div.sk-estimator.fitted input.sk-toggleable__control:checked~label.sk-toggleable__label {\n",
              "  /* fitted */\n",
              "  background-color: var(--sklearn-color-fitted-level-2);\n",
              "}\n",
              "\n",
              "#sk-container-id-1 div.sk-label label.sk-toggleable__label,\n",
              "#sk-container-id-1 div.sk-label label {\n",
              "  /* The background is the default theme color */\n",
              "  color: var(--sklearn-color-text-on-default-background);\n",
              "}\n",
              "\n",
              "/* On hover, darken the color of the background */\n",
              "#sk-container-id-1 div.sk-label:hover label.sk-toggleable__label {\n",
              "  color: var(--sklearn-color-text);\n",
              "  background-color: var(--sklearn-color-unfitted-level-2);\n",
              "}\n",
              "\n",
              "/* Label box, darken color on hover, fitted */\n",
              "#sk-container-id-1 div.sk-label.fitted:hover label.sk-toggleable__label.fitted {\n",
              "  color: var(--sklearn-color-text);\n",
              "  background-color: var(--sklearn-color-fitted-level-2);\n",
              "}\n",
              "\n",
              "/* Estimator label */\n",
              "\n",
              "#sk-container-id-1 div.sk-label label {\n",
              "  font-family: monospace;\n",
              "  font-weight: bold;\n",
              "  display: inline-block;\n",
              "  line-height: 1.2em;\n",
              "}\n",
              "\n",
              "#sk-container-id-1 div.sk-label-container {\n",
              "  text-align: center;\n",
              "}\n",
              "\n",
              "/* Estimator-specific */\n",
              "#sk-container-id-1 div.sk-estimator {\n",
              "  font-family: monospace;\n",
              "  border: 1px dotted var(--sklearn-color-border-box);\n",
              "  border-radius: 0.25em;\n",
              "  box-sizing: border-box;\n",
              "  margin-bottom: 0.5em;\n",
              "  /* unfitted */\n",
              "  background-color: var(--sklearn-color-unfitted-level-0);\n",
              "}\n",
              "\n",
              "#sk-container-id-1 div.sk-estimator.fitted {\n",
              "  /* fitted */\n",
              "  background-color: var(--sklearn-color-fitted-level-0);\n",
              "}\n",
              "\n",
              "/* on hover */\n",
              "#sk-container-id-1 div.sk-estimator:hover {\n",
              "  /* unfitted */\n",
              "  background-color: var(--sklearn-color-unfitted-level-2);\n",
              "}\n",
              "\n",
              "#sk-container-id-1 div.sk-estimator.fitted:hover {\n",
              "  /* fitted */\n",
              "  background-color: var(--sklearn-color-fitted-level-2);\n",
              "}\n",
              "\n",
              "/* Specification for estimator info (e.g. \"i\" and \"?\") */\n",
              "\n",
              "/* Common style for \"i\" and \"?\" */\n",
              "\n",
              ".sk-estimator-doc-link,\n",
              "a:link.sk-estimator-doc-link,\n",
              "a:visited.sk-estimator-doc-link {\n",
              "  float: right;\n",
              "  font-size: smaller;\n",
              "  line-height: 1em;\n",
              "  font-family: monospace;\n",
              "  background-color: var(--sklearn-color-background);\n",
              "  border-radius: 1em;\n",
              "  height: 1em;\n",
              "  width: 1em;\n",
              "  text-decoration: none !important;\n",
              "  margin-left: 0.5em;\n",
              "  text-align: center;\n",
              "  /* unfitted */\n",
              "  border: var(--sklearn-color-unfitted-level-1) 1pt solid;\n",
              "  color: var(--sklearn-color-unfitted-level-1);\n",
              "}\n",
              "\n",
              ".sk-estimator-doc-link.fitted,\n",
              "a:link.sk-estimator-doc-link.fitted,\n",
              "a:visited.sk-estimator-doc-link.fitted {\n",
              "  /* fitted */\n",
              "  border: var(--sklearn-color-fitted-level-1) 1pt solid;\n",
              "  color: var(--sklearn-color-fitted-level-1);\n",
              "}\n",
              "\n",
              "/* On hover */\n",
              "div.sk-estimator:hover .sk-estimator-doc-link:hover,\n",
              ".sk-estimator-doc-link:hover,\n",
              "div.sk-label-container:hover .sk-estimator-doc-link:hover,\n",
              ".sk-estimator-doc-link:hover {\n",
              "  /* unfitted */\n",
              "  background-color: var(--sklearn-color-unfitted-level-3);\n",
              "  color: var(--sklearn-color-background);\n",
              "  text-decoration: none;\n",
              "}\n",
              "\n",
              "div.sk-estimator.fitted:hover .sk-estimator-doc-link.fitted:hover,\n",
              ".sk-estimator-doc-link.fitted:hover,\n",
              "div.sk-label-container:hover .sk-estimator-doc-link.fitted:hover,\n",
              ".sk-estimator-doc-link.fitted:hover {\n",
              "  /* fitted */\n",
              "  background-color: var(--sklearn-color-fitted-level-3);\n",
              "  color: var(--sklearn-color-background);\n",
              "  text-decoration: none;\n",
              "}\n",
              "\n",
              "/* Span, style for the box shown on hovering the info icon */\n",
              ".sk-estimator-doc-link span {\n",
              "  display: none;\n",
              "  z-index: 9999;\n",
              "  position: relative;\n",
              "  font-weight: normal;\n",
              "  right: .2ex;\n",
              "  padding: .5ex;\n",
              "  margin: .5ex;\n",
              "  width: min-content;\n",
              "  min-width: 20ex;\n",
              "  max-width: 50ex;\n",
              "  color: var(--sklearn-color-text);\n",
              "  box-shadow: 2pt 2pt 4pt #999;\n",
              "  /* unfitted */\n",
              "  background: var(--sklearn-color-unfitted-level-0);\n",
              "  border: .5pt solid var(--sklearn-color-unfitted-level-3);\n",
              "}\n",
              "\n",
              ".sk-estimator-doc-link.fitted span {\n",
              "  /* fitted */\n",
              "  background: var(--sklearn-color-fitted-level-0);\n",
              "  border: var(--sklearn-color-fitted-level-3);\n",
              "}\n",
              "\n",
              ".sk-estimator-doc-link:hover span {\n",
              "  display: block;\n",
              "}\n",
              "\n",
              "/* \"?\"-specific style due to the `<a>` HTML tag */\n",
              "\n",
              "#sk-container-id-1 a.estimator_doc_link {\n",
              "  float: right;\n",
              "  font-size: 1rem;\n",
              "  line-height: 1em;\n",
              "  font-family: monospace;\n",
              "  background-color: var(--sklearn-color-background);\n",
              "  border-radius: 1rem;\n",
              "  height: 1rem;\n",
              "  width: 1rem;\n",
              "  text-decoration: none;\n",
              "  /* unfitted */\n",
              "  color: var(--sklearn-color-unfitted-level-1);\n",
              "  border: var(--sklearn-color-unfitted-level-1) 1pt solid;\n",
              "}\n",
              "\n",
              "#sk-container-id-1 a.estimator_doc_link.fitted {\n",
              "  /* fitted */\n",
              "  border: var(--sklearn-color-fitted-level-1) 1pt solid;\n",
              "  color: var(--sklearn-color-fitted-level-1);\n",
              "}\n",
              "\n",
              "/* On hover */\n",
              "#sk-container-id-1 a.estimator_doc_link:hover {\n",
              "  /* unfitted */\n",
              "  background-color: var(--sklearn-color-unfitted-level-3);\n",
              "  color: var(--sklearn-color-background);\n",
              "  text-decoration: none;\n",
              "}\n",
              "\n",
              "#sk-container-id-1 a.estimator_doc_link.fitted:hover {\n",
              "  /* fitted */\n",
              "  background-color: var(--sklearn-color-fitted-level-3);\n",
              "}\n",
              "</style><div id=\"sk-container-id-1\" class=\"sk-top-container\"><div class=\"sk-text-repr-fallback\"><pre>RandomForestClassifier(random_state=42)</pre><b>In a Jupyter environment, please rerun this cell to show the HTML representation or trust the notebook. <br />On GitHub, the HTML representation is unable to render, please try loading this page with nbviewer.org.</b></div><div class=\"sk-container\" hidden><div class=\"sk-item\"><div class=\"sk-estimator fitted sk-toggleable\"><input class=\"sk-toggleable__control sk-hidden--visually\" id=\"sk-estimator-id-1\" type=\"checkbox\" checked><label for=\"sk-estimator-id-1\" class=\"sk-toggleable__label fitted sk-toggleable__label-arrow\"><div><div>RandomForestClassifier</div></div><div><a class=\"sk-estimator-doc-link fitted\" rel=\"noreferrer\" target=\"_blank\" href=\"https://scikit-learn.org/1.6/modules/generated/sklearn.ensemble.RandomForestClassifier.html\">?<span>Documentation for RandomForestClassifier</span></a><span class=\"sk-estimator-doc-link fitted\">i<span>Fitted</span></span></div></label><div class=\"sk-toggleable__content fitted\"><pre>RandomForestClassifier(random_state=42)</pre></div> </div></div></div></div>"
            ]
          },
          "metadata": {},
          "execution_count": 49
        }
      ]
    },
    {
      "cell_type": "markdown",
      "source": [
        "Evaluating the random forest model"
      ],
      "metadata": {
        "id": "sq8wjpZCAUtf"
      }
    },
    {
      "cell_type": "code",
      "source": [
        "y_pred = rf_model.predict(X_test)\n",
        "\n",
        "# Calculating the test accuracy\n",
        "test_accuracy = accuracy_score(y_test, y_pred)\n",
        "print(f\"Test Accuracy: {test_accuracy * 100:.2f}%\")"
      ],
      "metadata": {
        "colab": {
          "base_uri": "https://localhost:8080/"
        },
        "id": "gkqAG0SJ5vtq",
        "outputId": "6a6b93f0-2b06-44d4-b2c5-d16d4829a39c"
      },
      "execution_count": null,
      "outputs": [
        {
          "output_type": "stream",
          "name": "stdout",
          "text": [
            "Test Accuracy: 93.93%\n"
          ]
        }
      ]
    },
    {
      "cell_type": "markdown",
      "source": [
        "Classification report for the random forest model"
      ],
      "metadata": {
        "id": "b73He1eWAXgi"
      }
    },
    {
      "cell_type": "code",
      "source": [
        "y_pred = rf_model.predict(X_test)\n",
        "\n",
        "report = classification_report(y_test, y_pred, target_names=['No', 'Yes'])\n",
        "print(\"\\nClassification Report:\")\n",
        "print(report)"
      ],
      "metadata": {
        "colab": {
          "base_uri": "https://localhost:8080/"
        },
        "id": "3sZK2k9B8X1m",
        "outputId": "665f2c28-5171-4754-d064-ea16979ab93f"
      },
      "execution_count": null,
      "outputs": [
        {
          "output_type": "stream",
          "name": "stdout",
          "text": [
            "\n",
            "Classification Report:\n",
            "              precision    recall  f1-score   support\n",
            "\n",
            "          No       0.94      0.93      0.94      7308\n",
            "         Yes       0.93      0.94      0.94      7307\n",
            "\n",
            "    accuracy                           0.94     14615\n",
            "   macro avg       0.94      0.94      0.94     14615\n",
            "weighted avg       0.94      0.94      0.94     14615\n",
            "\n"
          ]
        }
      ]
    },
    {
      "cell_type": "markdown",
      "source": [
        "Plotting the confusion matrix for the random forest model"
      ],
      "metadata": {
        "id": "D2l08M7LAb-i"
      }
    },
    {
      "cell_type": "code",
      "source": [
        "y_pred = rf_model.predict(X_test)\n",
        "\n",
        "conf_matrix = confusion_matrix(y_test, y_pred)\n",
        "\n",
        "def plot_confusion_matrix(cm, classes, title='Confusion Matrix', cmap=plt.cm.Blues):\n",
        "    plt.figure(figsize=(5, 4))\n",
        "    plt.imshow(cm, interpolation='nearest', cmap=cmap)\n",
        "    plt.title(title)\n",
        "    plt.colorbar()\n",
        "    tick_marks = np.arange(len(classes))\n",
        "    plt.xticks(tick_marks, classes, rotation=45)\n",
        "    plt.yticks(tick_marks, classes)\n",
        "\n",
        "    thresh = cm.max() / 2\n",
        "    for i, j in itertools.product(range(cm.shape[0]), range(cm.shape[1])):\n",
        "        plt.text(j, i, f\"{cm[i, j]}\", horizontalalignment=\"center\",\n",
        "                 color=\"white\" if cm[i, j] > thresh else \"black\")\n",
        "\n",
        "    plt.ylabel('True Label')\n",
        "    plt.xlabel('Predicted Label')\n",
        "    plt.tight_layout()\n",
        "\n",
        "class_names = ['No', 'Yes']\n",
        "\n",
        "plot_confusion_matrix(conf_matrix, classes=class_names, title='Confusion Matrix')\n",
        "plt.show()"
      ],
      "metadata": {
        "colab": {
          "base_uri": "https://localhost:8080/",
          "height": 407
        },
        "id": "3P8vyVQH83IA",
        "outputId": "d7ad0429-d3fa-4f46-b0f4-17fc7012ae7b"
      },
      "execution_count": null,
      "outputs": [
        {
          "output_type": "display_data",
          "data": {
            "text/plain": [
              "<Figure size 500x400 with 2 Axes>"
            ],
            "image/png": "[encoded data removed]"
          },
          "metadata": {}
        }
      ]
    },
    {
      "cell_type": "markdown",
      "source": [
        "ROC curve for the random forest model"
      ],
      "metadata": {
        "id": "jDkGbMbHAg70"
      }
    },
    {
      "cell_type": "code",
      "source": [
        "y_pred_prob = rf_model.predict_proba(X_test)[:, 1]\n",
        "\n",
        "fpr, tpr, thresholds = roc_curve(y_test, y_pred_prob)\n",
        "\n",
        "roc_auc = auc(fpr, tpr)\n",
        "\n",
        "plt.figure(figsize=(5, 4))\n",
        "plt.plot(fpr, tpr, color='blue', lw=2, label=f'ROC curve (AUC = {roc_auc:.2f})')\n",
        "plt.plot([0, 1], [0, 1], color='gray', linestyle='--', lw=2)  # Diagonal line\n",
        "plt.xlim([0.0, 1.0])\n",
        "plt.ylim([0.0, 1.05])\n",
        "plt.xlabel('False Positive Rate')\n",
        "plt.ylabel('True Positive Rate')\n",
        "plt.title('Random Forest ROC Curve')\n",
        "plt.legend(loc='lower right')\n",
        "plt.grid(alpha=0.5)\n",
        "plt.show()"
      ],
      "metadata": {
        "colab": {
          "base_uri": "https://localhost:8080/",
          "height": 410
        },
        "id": "CXjmr2c49gzv",
        "outputId": "6873cece-ab3b-4f63-ecde-a8bfce9c731a"
      },
      "execution_count": null,
      "outputs": [
        {
          "output_type": "display_data",
          "data": {
            "text/plain": [
              "<Figure size 500x400 with 1 Axes>"
            ],
            "image/png": "[encoded data removed]"
          },
          "metadata": {}
        }
      ]
    }
  ]
}