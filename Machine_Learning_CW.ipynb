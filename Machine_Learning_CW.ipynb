{
  "nbformat": 4,
  "nbformat_minor": 0,
  "metadata": {
    "colab": {
      "provenance": [],
      "authorship_tag": "ABX9TyOKgCTIElFb8s/Uodm+f9HJ",
      "include_colab_link": true
    },
    "kernelspec": {
      "name": "python3",
      "display_name": "Python 3"
    },
    "language_info": {
      "name": "python"
    }
  },
  "cells": [
    {
      "cell_type": "markdown",
      "metadata": {
        "id": "view-in-github",
        "colab_type": "text"
      },
      "source": [
        "<a href=\"https://colab.research.google.com/github/TharinsaMudalige/Simple_Classification_for_Bank_Marketing_Dataset/blob/main/Machine_Learning_CW.ipynb\" target=\"_parent\"><img src=\"https://colab.research.google.com/assets/colab-badge.svg\" alt=\"Open In Colab\"/></a>"
      ]
    },
    {
      "cell_type": "code",
      "execution_count": 1,
      "metadata": {
        "colab": {
          "base_uri": "https://localhost:8080/"
        },
        "id": "i7SdmO1K3pJ8",
        "outputId": "433cb58e-737f-402d-dfcf-bb7b80f809ee"
      },
      "outputs": [
        {
          "output_type": "stream",
          "name": "stdout",
          "text": [
            "Mounted at /content/drive\n"
          ]
        }
      ],
      "source": [
        "from google.colab import drive\n",
        "drive.mount('/content/drive')"
      ]
    },
    {
      "cell_type": "code",
      "source": [
        "import pandas as pd"
      ],
      "metadata": {
        "id": "x2hy5oBiEsTh"
      },
      "execution_count": 2,
      "outputs": []
    },
    {
      "cell_type": "code",
      "source": [
        "file_path = '/content/drive/MyDrive/ML Coursework/bank-additional-full.csv'\n",
        "\n",
        "# Loading the CSV file into a Pandas DataFrame\n",
        "data = pd.read_csv(file_path, delimiter=';')\n",
        "# Displaying the first few rows\n",
        "print(data.head())"
      ],
      "metadata": {
        "colab": {
          "base_uri": "https://localhost:8080/"
        },
        "id": "EQosKmo-Epsu",
        "outputId": "01e7028b-cf43-4715-c515-2a2426205305"
      },
      "execution_count": 3,
      "outputs": [
        {
          "output_type": "stream",
          "name": "stdout",
          "text": [
            "   age        job  marital    education  default housing loan    contact  \\\n",
            "0   56  housemaid  married     basic.4y       no      no   no  telephone   \n",
            "1   57   services  married  high.school  unknown      no   no  telephone   \n",
            "2   37   services  married  high.school       no     yes   no  telephone   \n",
            "3   40     admin.  married     basic.6y       no      no   no  telephone   \n",
            "4   56   services  married  high.school       no      no  yes  telephone   \n",
            "\n",
            "  month day_of_week  ...  campaign  pdays  previous     poutcome emp.var.rate  \\\n",
            "0   may         mon  ...         1    999         0  nonexistent          1.1   \n",
            "1   may         mon  ...         1    999         0  nonexistent          1.1   \n",
            "2   may         mon  ...         1    999         0  nonexistent          1.1   \n",
            "3   may         mon  ...         1    999         0  nonexistent          1.1   \n",
            "4   may         mon  ...         1    999         0  nonexistent          1.1   \n",
            "\n",
            "   cons.price.idx  cons.conf.idx  euribor3m  nr.employed   y  \n",
            "0          93.994          -36.4      4.857       5191.0  no  \n",
            "1          93.994          -36.4      4.857       5191.0  no  \n",
            "2          93.994          -36.4      4.857       5191.0  no  \n",
            "3          93.994          -36.4      4.857       5191.0  no  \n",
            "4          93.994          -36.4      4.857       5191.0  no  \n",
            "\n",
            "[5 rows x 21 columns]\n"
          ]
        }
      ]
    },
    {
      "cell_type": "code",
      "source": [
        "print(\"Initial dataset shape:\", data.shape)"
      ],
      "metadata": {
        "id": "I1-kdrn2Ff4v",
        "colab": {
          "base_uri": "https://localhost:8080/"
        },
        "outputId": "0fd4531d-272c-49a9-f743-eaca8047b055"
      },
      "execution_count": 4,
      "outputs": [
        {
          "output_type": "stream",
          "name": "stdout",
          "text": [
            "Initial dataset shape: (41188, 21)\n"
          ]
        }
      ]
    },
    {
      "cell_type": "markdown",
      "source": [
        "Data Preprocessing"
      ],
      "metadata": {
        "id": "K6edOIT7Ta3p"
      }
    },
    {
      "cell_type": "markdown",
      "source": [
        "1.   Handling \"unknown values\""
      ],
      "metadata": {
        "id": "6tZqeScoJ9cJ"
      }
    },
    {
      "cell_type": "code",
      "source": [
        "# Columns containing unknown values\n",
        "columns = ['job', 'marital', 'education', 'default', 'housing', 'loan']\n",
        "\n",
        "# Handling \"unknown\" values\n",
        "for column in columns:\n",
        "    unknown_count = data[column].value_counts().get('unknown', 0)\n",
        "    print(f'\"unknown\" count in {column} column: {unknown_count}')\n",
        "\n",
        "    if column in ['default', 'education']:  # Taking \"unknown\" as a separate category for these 2 columns\n",
        "        data[column] = data[column].replace('unknown', 'unknown')\n",
        "    else:  # Replacing \"unknown\" with the mode for other columns\n",
        "        data[column] = data[column].replace('unknown', data[column].mode()[0])"
      ],
      "metadata": {
        "colab": {
          "base_uri": "https://localhost:8080/"
        },
        "id": "wR3O7sSSOBHB",
        "outputId": "36e5e899-2ab5-4575-bac3-276c1739d777"
      },
      "execution_count": 5,
      "outputs": [
        {
          "output_type": "stream",
          "name": "stdout",
          "text": [
            "\"unknown\" count in job column: 330\n",
            "\"unknown\" count in marital column: 80\n",
            "\"unknown\" count in education column: 1731\n",
            "\"unknown\" count in default column: 8597\n",
            "\"unknown\" count in housing column: 990\n",
            "\"unknown\" count in loan column: 990\n"
          ]
        }
      ]
    },
    {
      "cell_type": "markdown",
      "source": [
        "2. Handling the value of pdays"
      ],
      "metadata": {
        "id": "WUFggsoASHF1"
      }
    },
    {
      "cell_type": "code",
      "source": [
        "# Replacing 999 with -1 as \"not contacted\"\n",
        "data['pdays'] = data['pdays'].replace(999, -1)"
      ],
      "metadata": {
        "id": "G8c7e3pTSLI6"
      },
      "execution_count": 6,
      "outputs": []
    },
    {
      "cell_type": "markdown",
      "source": [
        "3. Handling duplicate rows"
      ],
      "metadata": {
        "id": "WSkAOLluSLqg"
      }
    },
    {
      "cell_type": "code",
      "source": [
        "# Removing duplicate rows\n",
        "data = data.drop_duplicates()"
      ],
      "metadata": {
        "id": "v72hE_EVSNvl"
      },
      "execution_count": 7,
      "outputs": []
    },
    {
      "cell_type": "code",
      "source": [
        "print(\"Dataset shape after remvoving duplicates:\", data.shape)"
      ],
      "metadata": {
        "colab": {
          "base_uri": "https://localhost:8080/"
        },
        "id": "krSiG_tPSXzi",
        "outputId": "d6b9f4d1-a11e-4584-9856-06bff81ac8e0"
      },
      "execution_count": 8,
      "outputs": [
        {
          "output_type": "stream",
          "name": "stdout",
          "text": [
            "Dataset shape after remvoving duplicates: (41176, 21)\n"
          ]
        }
      ]
    },
    {
      "cell_type": "markdown",
      "source": [
        "4. Encoding categorical variables"
      ],
      "metadata": {
        "id": "-UQlZOHBWoG4"
      }
    },
    {
      "cell_type": "code",
      "source": [
        "# Displaying initial information about the dataset\n",
        "print(\"Dataset before encoding:\")\n",
        "print(data.info())"
      ],
      "metadata": {
        "colab": {
          "base_uri": "https://localhost:8080/"
        },
        "id": "TpeUJe_GXLRN",
        "outputId": "86148591-7124-4a71-e59e-bfefe9e1fb14"
      },
      "execution_count": 9,
      "outputs": [
        {
          "output_type": "stream",
          "name": "stdout",
          "text": [
            "Dataset before encoding:\n",
            "<class 'pandas.core.frame.DataFrame'>\n",
            "Index: 41176 entries, 0 to 41187\n",
            "Data columns (total 21 columns):\n",
            " #   Column          Non-Null Count  Dtype  \n",
            "---  ------          --------------  -----  \n",
            " 0   age             41176 non-null  int64  \n",
            " 1   job             41176 non-null  object \n",
            " 2   marital         41176 non-null  object \n",
            " 3   education       41176 non-null  object \n",
            " 4   default         41176 non-null  object \n",
            " 5   housing         41176 non-null  object \n",
            " 6   loan            41176 non-null  object \n",
            " 7   contact         41176 non-null  object \n",
            " 8   month           41176 non-null  object \n",
            " 9   day_of_week     41176 non-null  object \n",
            " 10  duration        41176 non-null  int64  \n",
            " 11  campaign        41176 non-null  int64  \n",
            " 12  pdays           41176 non-null  int64  \n",
            " 13  previous        41176 non-null  int64  \n",
            " 14  poutcome        41176 non-null  object \n",
            " 15  emp.var.rate    41176 non-null  float64\n",
            " 16  cons.price.idx  41176 non-null  float64\n",
            " 17  cons.conf.idx   41176 non-null  float64\n",
            " 18  euribor3m       41176 non-null  float64\n",
            " 19  nr.employed     41176 non-null  float64\n",
            " 20  y               41176 non-null  object \n",
            "dtypes: float64(5), int64(5), object(11)\n",
            "memory usage: 6.9+ MB\n",
            "None\n"
          ]
        }
      ]
    },
    {
      "cell_type": "code",
      "source": [
        "columns = ['job', 'marital', 'education', 'default', 'housing', 'loan',\n",
        "                       'contact', 'month', 'day_of_week', 'poutcome']\n",
        "\n",
        "# Performing one-hot encoding for all categorical variables/features\n",
        "data_encoded = pd.get_dummies(data, columns=columns, drop_first=True)\n",
        "\n",
        "# Displaying information after encoding\n",
        "print(\"\\nDataset after encoding:\")\n",
        "print(data_encoded.info())"
      ],
      "metadata": {
        "colab": {
          "base_uri": "https://localhost:8080/"
        },
        "id": "cbsHfpIEWzgc",
        "outputId": "7b394a89-dcfa-42a1-fc56-dd6c0154c59d"
      },
      "execution_count": 10,
      "outputs": [
        {
          "output_type": "stream",
          "name": "stdout",
          "text": [
            "\n",
            "Dataset after encoding:\n",
            "<class 'pandas.core.frame.DataFrame'>\n",
            "Index: 41176 entries, 0 to 41187\n",
            "Data columns (total 50 columns):\n",
            " #   Column                         Non-Null Count  Dtype  \n",
            "---  ------                         --------------  -----  \n",
            " 0   age                            41176 non-null  int64  \n",
            " 1   duration                       41176 non-null  int64  \n",
            " 2   campaign                       41176 non-null  int64  \n",
            " 3   pdays                          41176 non-null  int64  \n",
            " 4   previous                       41176 non-null  int64  \n",
            " 5   emp.var.rate                   41176 non-null  float64\n",
            " 6   cons.price.idx                 41176 non-null  float64\n",
            " 7   cons.conf.idx                  41176 non-null  float64\n",
            " 8   euribor3m                      41176 non-null  float64\n",
            " 9   nr.employed                    41176 non-null  float64\n",
            " 10  y                              41176 non-null  object \n",
            " 11  job_blue-collar                41176 non-null  bool   \n",
            " 12  job_entrepreneur               41176 non-null  bool   \n",
            " 13  job_housemaid                  41176 non-null  bool   \n",
            " 14  job_management                 41176 non-null  bool   \n",
            " 15  job_retired                    41176 non-null  bool   \n",
            " 16  job_self-employed              41176 non-null  bool   \n",
            " 17  job_services                   41176 non-null  bool   \n",
            " 18  job_student                    41176 non-null  bool   \n",
            " 19  job_technician                 41176 non-null  bool   \n",
            " 20  job_unemployed                 41176 non-null  bool   \n",
            " 21  marital_married                41176 non-null  bool   \n",
            " 22  marital_single                 41176 non-null  bool   \n",
            " 23  education_basic.6y             41176 non-null  bool   \n",
            " 24  education_basic.9y             41176 non-null  bool   \n",
            " 25  education_high.school          41176 non-null  bool   \n",
            " 26  education_illiterate           41176 non-null  bool   \n",
            " 27  education_professional.course  41176 non-null  bool   \n",
            " 28  education_university.degree    41176 non-null  bool   \n",
            " 29  education_unknown              41176 non-null  bool   \n",
            " 30  default_unknown                41176 non-null  bool   \n",
            " 31  default_yes                    41176 non-null  bool   \n",
            " 32  housing_yes                    41176 non-null  bool   \n",
            " 33  loan_yes                       41176 non-null  bool   \n",
            " 34  contact_telephone              41176 non-null  bool   \n",
            " 35  month_aug                      41176 non-null  bool   \n",
            " 36  month_dec                      41176 non-null  bool   \n",
            " 37  month_jul                      41176 non-null  bool   \n",
            " 38  month_jun                      41176 non-null  bool   \n",
            " 39  month_mar                      41176 non-null  bool   \n",
            " 40  month_may                      41176 non-null  bool   \n",
            " 41  month_nov                      41176 non-null  bool   \n",
            " 42  month_oct                      41176 non-null  bool   \n",
            " 43  month_sep                      41176 non-null  bool   \n",
            " 44  day_of_week_mon                41176 non-null  bool   \n",
            " 45  day_of_week_thu                41176 non-null  bool   \n",
            " 46  day_of_week_tue                41176 non-null  bool   \n",
            " 47  day_of_week_wed                41176 non-null  bool   \n",
            " 48  poutcome_nonexistent           41176 non-null  bool   \n",
            " 49  poutcome_success               41176 non-null  bool   \n",
            "dtypes: bool(39), float64(5), int64(5), object(1)\n",
            "memory usage: 5.3+ MB\n",
            "None\n"
          ]
        }
      ]
    },
    {
      "cell_type": "markdown",
      "source": [
        "5. Standardization (Z-Score Normalization)"
      ],
      "metadata": {
        "id": "MmnNqOTSGw5Q"
      }
    },
    {
      "cell_type": "code",
      "source": [
        "from sklearn.preprocessing import StandardScaler"
      ],
      "metadata": {
        "id": "Y0SwCIZEG30l"
      },
      "execution_count": 11,
      "outputs": []
    },
    {
      "cell_type": "code",
      "source": [
        "numerical_columns = ['age', 'campaign', 'pdays', 'previous',\n",
        "                     'emp.var.rate', 'cons.price.idx',\n",
        "                     'cons.conf.idx', 'euribor3m', 'nr.employed']\n",
        "\n",
        "# Initializing the StandardScaler to standardize features to have a mean of 0 and standard deviation of 1\n",
        "scaler = StandardScaler()\n",
        "\n",
        "# Creating a copy of the dataset\n",
        "X_standardized = data_encoded.copy()\n",
        "X_standardized[numerical_columns] = scaler.fit_transform(data_encoded[numerical_columns])"
      ],
      "metadata": {
        "id": "SQ_Z_CFvgvei"
      },
      "execution_count": 12,
      "outputs": []
    },
    {
      "cell_type": "markdown",
      "source": [
        "6. Mapping yes and no as 0 and 1"
      ],
      "metadata": {
        "id": "IRzxpyUB4cmm"
      }
    },
    {
      "cell_type": "code",
      "source": [
        "# Mapping the target variable 'y' to 1 and 0\n",
        "X_standardized['y'] = X_standardized['y'].map({'yes': 1, 'no': 0})\n",
        "\n",
        "# Confirm the mapping\n",
        "print(\"After mapping:\", X_standardized['y'].unique())"
      ],
      "metadata": {
        "id": "l_JpBlBV4hai",
        "colab": {
          "base_uri": "https://localhost:8080/"
        },
        "outputId": "a36a9212-f15a-42e9-ce98-e247aa803ab3"
      },
      "execution_count": 13,
      "outputs": [
        {
          "output_type": "stream",
          "name": "stdout",
          "text": [
            "After mapping: [0 1]\n"
          ]
        }
      ]
    },
    {
      "cell_type": "markdown",
      "source": [
        "7. Removing the \"duration\" feature"
      ],
      "metadata": {
        "id": "uGf-YnaB7Hb7"
      }
    },
    {
      "cell_type": "code",
      "source": [
        "# Removing the 'duration' feature\n",
        "X_standardized = X_standardized.drop(columns=['duration'])\n",
        "\n",
        "# Confirm the removal\n",
        "print(\"Dataset shape after removing 'duration':\", X_standardized.shape)"
      ],
      "metadata": {
        "id": "xqZMXt_G7Msp",
        "colab": {
          "base_uri": "https://localhost:8080/"
        },
        "outputId": "7dec8caf-94c1-4e8f-a6b9-9e04678e8035"
      },
      "execution_count": 14,
      "outputs": [
        {
          "output_type": "stream",
          "name": "stdout",
          "text": [
            "Dataset shape after removing 'duration': (41176, 49)\n"
          ]
        }
      ]
    },
    {
      "cell_type": "markdown",
      "source": [
        "8. Handling class imbalance"
      ],
      "metadata": {
        "id": "O-P1NRpkDdao"
      }
    },
    {
      "cell_type": "code",
      "source": [
        "# Checking whether imbalance exists\n",
        "\n",
        "# Checking the class distribution for the target variable\n",
        "class_distribution = X_standardized['y'].value_counts()\n",
        "print(\"Class Distribution:\")\n",
        "print(class_distribution)\n",
        "\n",
        "# Calculating the percentage of imbalance\n",
        "percentage_of_no = (class_distribution[0] / len(X_standardized)) * 100\n",
        "percentage_of_yes = (class_distribution[1] / len(X_standardized)) * 100\n",
        "print(f\"\\nPercentage of 'no': {percentage_of_no:.2f}%\")\n",
        "print(f\"Percentage of 'yes': {percentage_of_yes:.2f}%\")"
      ],
      "metadata": {
        "colab": {
          "base_uri": "https://localhost:8080/"
        },
        "id": "C-Q62ziZDmED",
        "outputId": "540914b7-2af2-4ae4-806b-654a675ed10f"
      },
      "execution_count": 15,
      "outputs": [
        {
          "output_type": "stream",
          "name": "stdout",
          "text": [
            "Class Distribution:\n",
            "y\n",
            "0    36537\n",
            "1     4639\n",
            "Name: count, dtype: int64\n",
            "\n",
            "Percentage of 'no': 88.73%\n",
            "Percentage of 'yes': 11.27%\n"
          ]
        }
      ]
    },
    {
      "cell_type": "code",
      "source": [
        "from imblearn.over_sampling import SMOTE\n",
        "from collections import Counter"
      ],
      "metadata": {
        "id": "wiMWK7SrjJhc"
      },
      "execution_count": 16,
      "outputs": []
    },
    {
      "cell_type": "code",
      "source": [
        "# Separating features and target variable\n",
        "X = X_standardized.drop('y', axis=1)\n",
        "y = X_standardized['y']\n",
        "\n",
        "# Applying SMOTE to balance the dataset\n",
        "smote = SMOTE(random_state=42)\n",
        "X_smote, y_smote = smote.fit_resample(X, y)\n",
        "\n",
        "# Checking the class distribution after\n",
        "print(\"\\nClass distribution after SMOTE:\")\n",
        "print(Counter(y_smote))"
      ],
      "metadata": {
        "colab": {
          "base_uri": "https://localhost:8080/"
        },
        "id": "VUmQV6acw2vL",
        "outputId": "788970da-b43b-4bd1-adfe-f7641bb806f4"
      },
      "execution_count": 17,
      "outputs": [
        {
          "output_type": "stream",
          "name": "stderr",
          "text": [
            "/usr/local/lib/python3.10/dist-packages/sklearn/base.py:474: FutureWarning: `BaseEstimator._validate_data` is deprecated in 1.6 and will be removed in 1.7. Use `sklearn.utils.validation.validate_data` instead. This function becomes public and is part of the scikit-learn developer API.\n",
            "  warnings.warn(\n",
            "/usr/local/lib/python3.10/dist-packages/sklearn/utils/_tags.py:354: FutureWarning: The SMOTE or classes from which it inherits use `_get_tags` and `_more_tags`. Please define the `__sklearn_tags__` method, or inherit from `sklearn.base.BaseEstimator` and/or other appropriate mixins such as `sklearn.base.TransformerMixin`, `sklearn.base.ClassifierMixin`, `sklearn.base.RegressorMixin`, and `sklearn.base.OutlierMixin`. From scikit-learn 1.7, not defining `__sklearn_tags__` will raise an error.\n",
            "  warnings.warn(\n"
          ]
        },
        {
          "output_type": "stream",
          "name": "stdout",
          "text": [
            "\n",
            "Class distribution after SMOTE:\n",
            "Counter({0: 36537, 1: 36537})\n"
          ]
        }
      ]
    },
    {
      "cell_type": "code",
      "source": [
        "# Combining the features (X_smote) and target variable (y_smote) into a single dataset\n",
        "smote_balanced_data = X_smote.copy()\n",
        "smote_balanced_data['y'] = y_smote\n",
        "\n",
        "# Save the pre processed dataset\n",
        "file_path = '/content/drive/My Drive/ML Coursework/bank_additional_full_preprocessed.csv'\n",
        "smote_balanced_data.to_csv(file_path, index=False)"
      ],
      "metadata": {
        "id": "FRFBYneKjXaU"
      },
      "execution_count": 18,
      "outputs": []
    },
    {
      "cell_type": "markdown",
      "source": [
        "9. Splitting the dataset"
      ],
      "metadata": {
        "id": "rngvCOJxUGh7"
      }
    },
    {
      "cell_type": "code",
      "source": [
        "from sklearn.model_selection import train_test_split"
      ],
      "metadata": {
        "id": "Xb9pGeWrUIVn"
      },
      "execution_count": 19,
      "outputs": []
    },
    {
      "cell_type": "code",
      "source": [
        "# Loading the saved dataset\n",
        "file_path = '/content/drive/My Drive/ML Coursework/bank_additional_full_preprocessed.csv'\n",
        "data_smote = pd.read_csv(file_path)\n",
        "\n",
        "# Separating features and target variable\n",
        "X = data_smote.drop('y', axis=1)\n",
        "y = data_smote['y']\n",
        "\n",
        "# Splitting\n",
        "X_train, X_test, y_train, y_test = train_test_split(\n",
        "    X, y,\n",
        "    test_size=0.2,\n",
        "    stratify=y,\n",
        "    random_state=42\n",
        ")\n",
        "\n",
        "# Checking the class distribution in both sets\n",
        "print(\"\\nTraining set:\")\n",
        "print(Counter(y_train))\n",
        "\n",
        "print(\"\\nTesting set:\")\n",
        "print(Counter(y_test))"
      ],
      "metadata": {
        "colab": {
          "base_uri": "https://localhost:8080/"
        },
        "id": "0Y3ef4AVUOsj",
        "outputId": "62c05ee0-d89f-486a-b5e5-768344000c7c"
      },
      "execution_count": 22,
      "outputs": [
        {
          "output_type": "stream",
          "name": "stdout",
          "text": [
            "\n",
            "Training set:\n",
            "Counter({1: 29230, 0: 29229})\n",
            "\n",
            "Testing set:\n",
            "Counter({0: 7308, 1: 7307})\n"
          ]
        }
      ]
    },
    {
      "cell_type": "markdown",
      "source": [
        "Building the neural network"
      ],
      "metadata": {
        "id": "y1KoSkxL5i7L"
      }
    },
    {
      "cell_type": "code",
      "source": [
        "from tensorflow.keras.models import Sequential\n",
        "from tensorflow.keras.layers import Dense, Dropout, Input"
      ],
      "metadata": {
        "id": "Owc7Ls4N5TEd"
      },
      "execution_count": 21,
      "outputs": []
    },
    {
      "cell_type": "code",
      "source": [
        "# Building the neural network\n",
        "model = Sequential([\n",
        "    Input(shape=(X_train.shape[1],)),\n",
        "    Dense(512, activation='relu'),\n",
        "    Dropout(0.3),\n",
        "    Dense(256, activation='relu'),\n",
        "    Dropout(0.3),\n",
        "    Dense(128, activation='relu'),\n",
        "    Dropout(0.3),\n",
        "    Dense(64, activation='relu'),\n",
        "    Dense(1, activation='sigmoid')\n",
        "])"
      ],
      "metadata": {
        "id": "5xEXJyZtv2Kr"
      },
      "execution_count": null,
      "outputs": []
    },
    {
      "cell_type": "code",
      "source": [
        "# Compiling the model\n",
        "model.compile(optimizer='adam',\n",
        "              loss='binary_crossentropy',\n",
        "              metrics=['accuracy'])"
      ],
      "metadata": {
        "id": "AzleiyCAv4HM"
      },
      "execution_count": null,
      "outputs": []
    },
    {
      "cell_type": "code",
      "source": [
        "# Train the model\n",
        "history = model.fit(\n",
        "    X_train, y_train,\n",
        "    validation_split=0.2,\n",
        "    epochs=100,\n",
        "    batch_size=64,\n",
        "    verbose=1\n",
        ")"
      ],
      "metadata": {
        "colab": {
          "base_uri": "https://localhost:8080/"
        },
        "id": "hlP4bM1Fv5y7",
        "outputId": "4bebef45-05aa-484a-ccf2-51dd95c2da71"
      },
      "execution_count": null,
      "outputs": [
        {
          "output_type": "stream",
          "name": "stdout",
          "text": [
            "Epoch 1/50\n",
            "\u001b[1m1462/1462\u001b[0m \u001b[32m━━━━━━━━━━━━━━━━━━━━\u001b[0m\u001b[37m\u001b[0m \u001b[1m15s\u001b[0m 9ms/step - accuracy: 0.7368 - loss: 0.5268 - val_accuracy: 0.7919 - val_loss: 0.4458\n",
            "Epoch 2/50\n",
            "\u001b[1m1462/1462\u001b[0m \u001b[32m━━━━━━━━━━━━━━━━━━━━\u001b[0m\u001b[37m\u001b[0m \u001b[1m19s\u001b[0m 8ms/step - accuracy: 0.7945 - loss: 0.4404 - val_accuracy: 0.8130 - val_loss: 0.4014\n",
            "Epoch 3/50\n",
            "\u001b[1m1462/1462\u001b[0m \u001b[32m━━━━━━━━━━━━━━━━━━━━\u001b[0m\u001b[37m\u001b[0m \u001b[1m12s\u001b[0m 8ms/step - accuracy: 0.8077 - loss: 0.4103 - val_accuracy: 0.8228 - val_loss: 0.3837\n",
            "Epoch 4/50\n",
            "\u001b[1m1462/1462\u001b[0m \u001b[32m━━━━━━━━━━━━━━━━━━━━\u001b[0m\u001b[37m\u001b[0m \u001b[1m12s\u001b[0m 8ms/step - accuracy: 0.8137 - loss: 0.3963 - val_accuracy: 0.8237 - val_loss: 0.3847\n",
            "Epoch 5/50\n",
            "\u001b[1m1462/1462\u001b[0m \u001b[32m━━━━━━━━━━━━━━━━━━━━\u001b[0m\u001b[37m\u001b[0m \u001b[1m20s\u001b[0m 8ms/step - accuracy: 0.8250 - loss: 0.3776 - val_accuracy: 0.8352 - val_loss: 0.3689\n",
            "Epoch 6/50\n",
            "\u001b[1m1462/1462\u001b[0m \u001b[32m━━━━━━━━━━━━━━━━━━━━\u001b[0m\u001b[37m\u001b[0m \u001b[1m12s\u001b[0m 8ms/step - accuracy: 0.8354 - loss: 0.3581 - val_accuracy: 0.8400 - val_loss: 0.3527\n",
            "Epoch 7/50\n",
            "\u001b[1m1462/1462\u001b[0m \u001b[32m━━━━━━━━━━━━━━━━━━━━\u001b[0m\u001b[37m\u001b[0m \u001b[1m11s\u001b[0m 7ms/step - accuracy: 0.8391 - loss: 0.3505 - val_accuracy: 0.8425 - val_loss: 0.3457\n",
            "Epoch 8/50\n",
            "\u001b[1m1462/1462\u001b[0m \u001b[32m━━━━━━━━━━━━━━━━━━━━\u001b[0m\u001b[37m\u001b[0m \u001b[1m12s\u001b[0m 8ms/step - accuracy: 0.8451 - loss: 0.3409 - val_accuracy: 0.8486 - val_loss: 0.3429\n",
            "Epoch 9/50\n",
            "\u001b[1m1462/1462\u001b[0m \u001b[32m━━━━━━━━━━━━━━━━━━━━\u001b[0m\u001b[37m\u001b[0m \u001b[1m13s\u001b[0m 9ms/step - accuracy: 0.8492 - loss: 0.3318 - val_accuracy: 0.8531 - val_loss: 0.3342\n",
            "Epoch 10/50\n",
            "\u001b[1m1462/1462\u001b[0m \u001b[32m━━━━━━━━━━━━━━━━━━━━\u001b[0m\u001b[37m\u001b[0m \u001b[1m13s\u001b[0m 9ms/step - accuracy: 0.8523 - loss: 0.3265 - val_accuracy: 0.8535 - val_loss: 0.3278\n",
            "Epoch 11/50\n",
            "\u001b[1m1462/1462\u001b[0m \u001b[32m━━━━━━━━━━━━━━━━━━━━\u001b[0m\u001b[37m\u001b[0m \u001b[1m13s\u001b[0m 9ms/step - accuracy: 0.8547 - loss: 0.3195 - val_accuracy: 0.8577 - val_loss: 0.3223\n",
            "Epoch 12/50\n",
            "\u001b[1m1462/1462\u001b[0m \u001b[32m━━━━━━━━━━━━━━━━━━━━\u001b[0m\u001b[37m\u001b[0m \u001b[1m20s\u001b[0m 9ms/step - accuracy: 0.8601 - loss: 0.3101 - val_accuracy: 0.8584 - val_loss: 0.3245\n",
            "Epoch 13/50\n",
            "\u001b[1m1462/1462\u001b[0m \u001b[32m━━━━━━━━━━━━━━━━━━━━\u001b[0m\u001b[37m\u001b[0m \u001b[1m12s\u001b[0m 8ms/step - accuracy: 0.8613 - loss: 0.3076 - val_accuracy: 0.8617 - val_loss: 0.3160\n",
            "Epoch 14/50\n",
            "\u001b[1m1462/1462\u001b[0m \u001b[32m━━━━━━━━━━━━━━━━━━━━\u001b[0m\u001b[37m\u001b[0m \u001b[1m20s\u001b[0m 8ms/step - accuracy: 0.8678 - loss: 0.2983 - val_accuracy: 0.8643 - val_loss: 0.3111\n",
            "Epoch 15/50\n",
            "\u001b[1m1462/1462\u001b[0m \u001b[32m━━━━━━━━━━━━━━━━━━━━\u001b[0m\u001b[37m\u001b[0m \u001b[1m18s\u001b[0m 7ms/step - accuracy: 0.8710 - loss: 0.2916 - val_accuracy: 0.8683 - val_loss: 0.3080\n",
            "Epoch 16/50\n",
            "\u001b[1m1462/1462\u001b[0m \u001b[32m━━━━━━━━━━━━━━━━━━━━\u001b[0m\u001b[37m\u001b[0m \u001b[1m11s\u001b[0m 8ms/step - accuracy: 0.8706 - loss: 0.2905 - val_accuracy: 0.8679 - val_loss: 0.3048\n",
            "Epoch 17/50\n",
            "\u001b[1m1462/1462\u001b[0m \u001b[32m━━━━━━━━━━━━━━━━━━━━\u001b[0m\u001b[37m\u001b[0m \u001b[1m11s\u001b[0m 8ms/step - accuracy: 0.8751 - loss: 0.2835 - val_accuracy: 0.8717 - val_loss: 0.3017\n",
            "Epoch 18/50\n",
            "\u001b[1m1462/1462\u001b[0m \u001b[32m━━━━━━━━━━━━━━━━━━━━\u001b[0m\u001b[37m\u001b[0m \u001b[1m11s\u001b[0m 8ms/step - accuracy: 0.8765 - loss: 0.2801 - val_accuracy: 0.8748 - val_loss: 0.2960\n",
            "Epoch 19/50\n",
            "\u001b[1m1462/1462\u001b[0m \u001b[32m━━━━━━━━━━━━━━━━━━━━\u001b[0m\u001b[37m\u001b[0m \u001b[1m22s\u001b[0m 8ms/step - accuracy: 0.8804 - loss: 0.2720 - val_accuracy: 0.8740 - val_loss: 0.2995\n",
            "Epoch 20/50\n",
            "\u001b[1m1462/1462\u001b[0m \u001b[32m━━━━━━━━━━━━━━━━━━━━\u001b[0m\u001b[37m\u001b[0m \u001b[1m18s\u001b[0m 7ms/step - accuracy: 0.8793 - loss: 0.2713 - val_accuracy: 0.8718 - val_loss: 0.2923\n",
            "Epoch 21/50\n",
            "\u001b[1m1462/1462\u001b[0m \u001b[32m━━━━━━━━━━━━━━━━━━━━\u001b[0m\u001b[37m\u001b[0m \u001b[1m11s\u001b[0m 8ms/step - accuracy: 0.8831 - loss: 0.2649 - val_accuracy: 0.8783 - val_loss: 0.2906\n",
            "Epoch 22/50\n",
            "\u001b[1m1462/1462\u001b[0m \u001b[32m━━━━━━━━━━━━━━━━━━━━\u001b[0m\u001b[37m\u001b[0m \u001b[1m12s\u001b[0m 8ms/step - accuracy: 0.8854 - loss: 0.2629 - val_accuracy: 0.8759 - val_loss: 0.2922\n",
            "Epoch 23/50\n",
            "\u001b[1m1462/1462\u001b[0m \u001b[32m━━━━━━━━━━━━━━━━━━━━\u001b[0m\u001b[37m\u001b[0m \u001b[1m11s\u001b[0m 8ms/step - accuracy: 0.8881 - loss: 0.2575 - val_accuracy: 0.8791 - val_loss: 0.2889\n",
            "Epoch 24/50\n",
            "\u001b[1m1462/1462\u001b[0m \u001b[32m━━━━━━━━━━━━━━━━━━━━\u001b[0m\u001b[37m\u001b[0m \u001b[1m10s\u001b[0m 7ms/step - accuracy: 0.8900 - loss: 0.2531 - val_accuracy: 0.8809 - val_loss: 0.2866\n",
            "Epoch 25/50\n",
            "\u001b[1m1462/1462\u001b[0m \u001b[32m━━━━━━━━━━━━━━━━━━━━\u001b[0m\u001b[37m\u001b[0m \u001b[1m13s\u001b[0m 8ms/step - accuracy: 0.8874 - loss: 0.2549 - val_accuracy: 0.8784 - val_loss: 0.2890\n",
            "Epoch 26/50\n",
            "\u001b[1m1462/1462\u001b[0m \u001b[32m━━━━━━━━━━━━━━━━━━━━\u001b[0m\u001b[37m\u001b[0m \u001b[1m18s\u001b[0m 6ms/step - accuracy: 0.8928 - loss: 0.2473 - val_accuracy: 0.8795 - val_loss: 0.2897\n",
            "Epoch 27/50\n",
            "\u001b[1m1462/1462\u001b[0m \u001b[32m━━━━━━━━━━━━━━━━━━━━\u001b[0m\u001b[37m\u001b[0m \u001b[1m12s\u001b[0m 8ms/step - accuracy: 0.8944 - loss: 0.2456 - val_accuracy: 0.8812 - val_loss: 0.2905\n",
            "Epoch 28/50\n",
            "\u001b[1m1462/1462\u001b[0m \u001b[32m━━━━━━━━━━━━━━━━━━━━\u001b[0m\u001b[37m\u001b[0m \u001b[1m11s\u001b[0m 8ms/step - accuracy: 0.8963 - loss: 0.2403 - val_accuracy: 0.8833 - val_loss: 0.2811\n",
            "Epoch 29/50\n",
            "\u001b[1m1462/1462\u001b[0m \u001b[32m━━━━━━━━━━━━━━━━━━━━\u001b[0m\u001b[37m\u001b[0m \u001b[1m19s\u001b[0m 6ms/step - accuracy: 0.8974 - loss: 0.2365 - val_accuracy: 0.8856 - val_loss: 0.2784\n",
            "Epoch 30/50\n",
            "\u001b[1m1462/1462\u001b[0m \u001b[32m━━━━━━━━━━━━━━━━━━━━\u001b[0m\u001b[37m\u001b[0m \u001b[1m12s\u001b[0m 8ms/step - accuracy: 0.8968 - loss: 0.2382 - val_accuracy: 0.8833 - val_loss: 0.2828\n",
            "Epoch 31/50\n",
            "\u001b[1m1462/1462\u001b[0m \u001b[32m━━━━━━━━━━━━━━━━━━━━\u001b[0m\u001b[37m\u001b[0m \u001b[1m19s\u001b[0m 7ms/step - accuracy: 0.8985 - loss: 0.2355 - val_accuracy: 0.8839 - val_loss: 0.2874\n",
            "Epoch 32/50\n",
            "\u001b[1m1462/1462\u001b[0m \u001b[32m━━━━━━━━━━━━━━━━━━━━\u001b[0m\u001b[37m\u001b[0m \u001b[1m11s\u001b[0m 8ms/step - accuracy: 0.8981 - loss: 0.2327 - val_accuracy: 0.8840 - val_loss: 0.2810\n",
            "Epoch 33/50\n",
            "\u001b[1m1462/1462\u001b[0m \u001b[32m━━━━━━━━━━━━━━━━━━━━\u001b[0m\u001b[37m\u001b[0m \u001b[1m19s\u001b[0m 7ms/step - accuracy: 0.9004 - loss: 0.2300 - val_accuracy: 0.8853 - val_loss: 0.2807\n",
            "Epoch 34/50\n",
            "\u001b[1m1462/1462\u001b[0m \u001b[32m━━━━━━━━━━━━━━━━━━━━\u001b[0m\u001b[37m\u001b[0m \u001b[1m10s\u001b[0m 7ms/step - accuracy: 0.9014 - loss: 0.2289 - val_accuracy: 0.8866 - val_loss: 0.2824\n",
            "Epoch 35/50\n",
            "\u001b[1m1462/1462\u001b[0m \u001b[32m━━━━━━━━━━━━━━━━━━━━\u001b[0m\u001b[37m\u001b[0m \u001b[1m11s\u001b[0m 7ms/step - accuracy: 0.9016 - loss: 0.2267 - val_accuracy: 0.8888 - val_loss: 0.2810\n",
            "Epoch 36/50\n",
            "\u001b[1m1462/1462\u001b[0m \u001b[32m━━━━━━━━━━━━━━━━━━━━\u001b[0m\u001b[37m\u001b[0m \u001b[1m9s\u001b[0m 6ms/step - accuracy: 0.9025 - loss: 0.2233 - val_accuracy: 0.8887 - val_loss: 0.2804\n",
            "Epoch 37/50\n",
            "\u001b[1m1462/1462\u001b[0m \u001b[32m━━━━━━━━━━━━━━━━━━━━\u001b[0m\u001b[37m\u001b[0m \u001b[1m11s\u001b[0m 7ms/step - accuracy: 0.9035 - loss: 0.2232 - val_accuracy: 0.8866 - val_loss: 0.2843\n",
            "Epoch 38/50\n",
            "\u001b[1m1462/1462\u001b[0m \u001b[32m━━━━━━━━━━━━━━━━━━━━\u001b[0m\u001b[37m\u001b[0m \u001b[1m20s\u001b[0m 7ms/step - accuracy: 0.9082 - loss: 0.2126 - val_accuracy: 0.8927 - val_loss: 0.2768\n",
            "Epoch 39/50\n",
            "\u001b[1m1462/1462\u001b[0m \u001b[32m━━━━━━━━━━━━━━━━━━━━\u001b[0m\u001b[37m\u001b[0m \u001b[1m9s\u001b[0m 6ms/step - accuracy: 0.9077 - loss: 0.2176 - val_accuracy: 0.8892 - val_loss: 0.2814\n",
            "Epoch 40/50\n",
            "\u001b[1m1462/1462\u001b[0m \u001b[32m━━━━━━━━━━━━━━━━━━━━\u001b[0m\u001b[37m\u001b[0m \u001b[1m12s\u001b[0m 8ms/step - accuracy: 0.9104 - loss: 0.2098 - val_accuracy: 0.8894 - val_loss: 0.2771\n",
            "Epoch 41/50\n",
            "\u001b[1m1462/1462\u001b[0m \u001b[32m━━━━━━━━━━━━━━━━━━━━\u001b[0m\u001b[37m\u001b[0m \u001b[1m11s\u001b[0m 7ms/step - accuracy: 0.9106 - loss: 0.2094 - val_accuracy: 0.8914 - val_loss: 0.2760\n",
            "Epoch 42/50\n",
            "\u001b[1m1462/1462\u001b[0m \u001b[32m━━━━━━━━━━━━━━━━━━━━\u001b[0m\u001b[37m\u001b[0m \u001b[1m9s\u001b[0m 6ms/step - accuracy: 0.9092 - loss: 0.2128 - val_accuracy: 0.8939 - val_loss: 0.2756\n",
            "Epoch 43/50\n",
            "\u001b[1m1462/1462\u001b[0m \u001b[32m━━━━━━━━━━━━━━━━━━━━\u001b[0m\u001b[37m\u001b[0m \u001b[1m13s\u001b[0m 8ms/step - accuracy: 0.9116 - loss: 0.2084 - val_accuracy: 0.8922 - val_loss: 0.2740\n",
            "Epoch 44/50\n",
            "\u001b[1m1462/1462\u001b[0m \u001b[32m━━━━━━━━━━━━━━━━━━━━\u001b[0m\u001b[37m\u001b[0m \u001b[1m19s\u001b[0m 6ms/step - accuracy: 0.9100 - loss: 0.2078 - val_accuracy: 0.8925 - val_loss: 0.2783\n",
            "Epoch 45/50\n",
            "\u001b[1m1462/1462\u001b[0m \u001b[32m━━━━━━━━━━━━━━━━━━━━\u001b[0m\u001b[37m\u001b[0m \u001b[1m10s\u001b[0m 7ms/step - accuracy: 0.9129 - loss: 0.2033 - val_accuracy: 0.8940 - val_loss: 0.2754\n",
            "Epoch 46/50\n",
            "\u001b[1m1462/1462\u001b[0m \u001b[32m━━━━━━━━━━━━━━━━━━━━\u001b[0m\u001b[37m\u001b[0m \u001b[1m22s\u001b[0m 8ms/step - accuracy: 0.9116 - loss: 0.2016 - val_accuracy: 0.8916 - val_loss: 0.2787\n",
            "Epoch 47/50\n",
            "\u001b[1m1462/1462\u001b[0m \u001b[32m━━━━━━━━━━━━━━━━━━━━\u001b[0m\u001b[37m\u001b[0m \u001b[1m9s\u001b[0m 6ms/step - accuracy: 0.9140 - loss: 0.2009 - val_accuracy: 0.8937 - val_loss: 0.2798\n",
            "Epoch 48/50\n",
            "\u001b[1m1462/1462\u001b[0m \u001b[32m━━━━━━━━━━━━━━━━━━━━\u001b[0m\u001b[37m\u001b[0m \u001b[1m11s\u001b[0m 8ms/step - accuracy: 0.9132 - loss: 0.2007 - val_accuracy: 0.8951 - val_loss: 0.2726\n",
            "Epoch 49/50\n",
            "\u001b[1m1462/1462\u001b[0m \u001b[32m━━━━━━━━━━━━━━━━━━━━\u001b[0m\u001b[37m\u001b[0m \u001b[1m19s\u001b[0m 6ms/step - accuracy: 0.9118 - loss: 0.2016 - val_accuracy: 0.8951 - val_loss: 0.2835\n",
            "Epoch 50/50\n",
            "\u001b[1m1462/1462\u001b[0m \u001b[32m━━━━━━━━━━━━━━━━━━━━\u001b[0m\u001b[37m\u001b[0m \u001b[1m11s\u001b[0m 7ms/step - accuracy: 0.9121 - loss: 0.2002 - val_accuracy: 0.8951 - val_loss: 0.2724\n"
          ]
        }
      ]
    },
    {
      "cell_type": "markdown",
      "source": [
        "Evaluating the neural network model"
      ],
      "metadata": {
        "id": "eOOKL2q0U2rd"
      }
    },
    {
      "cell_type": "code",
      "source": [
        "test_loss, test_accuracy = model.evaluate(X_test, y_test, verbose=1)\n",
        "\n",
        "print(f\"\\nTest Accuracy: {test_accuracy * 100:.2f}%\")\n",
        "print(f\"Test Loss: {test_loss:.4f}\")"
      ],
      "metadata": {
        "id": "0D9pFxVGU5cJ"
      },
      "execution_count": null,
      "outputs": []
    }
  ]
}